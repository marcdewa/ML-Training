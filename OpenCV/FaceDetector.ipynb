{
 "cells": [
  {
   "cell_type": "code",
   "execution_count": null,
   "metadata": {
    "ExecuteTime": {
     "start_time": "2020-11-30T21:09:48.734Z"
    }
   },
   "outputs": [
    {
     "name": "stderr",
     "output_type": "stream",
     "text": [
      "<ipython-input-1-3b738263cd02>:12: DeprecationWarning: an integer is required (got type numpy.float32).  Implicit conversion to integers using __int__ is deprecated, and may be removed in a future version of Python.\n",
      "  cv.rectangle(frame,\n"
     ]
    }
   ],
   "source": [
    "import cv2 as cv\n",
    "import torch\n",
    "import numpy as np\n",
    "from facenet_pytorch import MTCNN\n",
    "\n",
    "class FaceDetector(object):\n",
    "    def __init__(self, mtcnn):\n",
    "        self.mtcnn = mtcnn\n",
    "    def _draw(self,frame,boxes,probs,landmarks):\n",
    "        try:\n",
    "            for box,prob,ld in zip(boxes,probs,landmarks):\n",
    "                cv.rectangle(frame,\n",
    "                            (box[0],box[1]),\n",
    "                            (box[2],box[3]),\n",
    "                            (255,0,0),\n",
    "                             thickness =1)\n",
    "                \n",
    "                print(type((box[3]+20.0).astype(numpy.float32)))\n",
    "                cv.putText(frame, str(prob), (box[0], box[3]), cv.FONT_HERSHEY_SIMPLEX, 1, (0, 0, 255), 2)\n",
    "                \n",
    "                cv.circle(frame,tuple(ld[0]),3, (0,0,255),thickness =-1)\n",
    "                cv.circle(frame,tuple(ld[1]),3, (0,0,255),thickness =-1)\n",
    "                cv.circle(frame,tuple(ld[2]),3, (0,0,255),thickness =-1)\n",
    "                cv.circle(frame,tuple(ld[3]),3, (0,0,255),thickness =-1)\n",
    "                cv.circle(frame,tuple(ld[4]),3, (0,0,255),thickness =-1)\n",
    "        except:\n",
    "            pass\n",
    "        return frame\n",
    "            \n",
    "    def run(self):\n",
    "        capture = cv.VideoCapture(0)\n",
    "        while True:\n",
    "            ret, frame = capture.read()\n",
    "            try:\n",
    "                boxes,probs,landmarks = self.mtcnn.detect(frame, landmarks=True)\n",
    "                self._draw(frame,boxes,probs,landmarks)\n",
    "            except:\n",
    "                pass\n",
    "            cv.imshow('Face Detector',frame)\n",
    "            \n",
    "            if cv.waitKey(1) & 0xFF==ord('q'):\n",
    "                break\n",
    "        capture.release();\n",
    "        cv.destroyAllWindows()\n",
    "    \n",
    "mtcnn = MTCNN()\n",
    "fd = FaceDetector(mtcnn)\n",
    "fd.run()"
   ]
  },
  {
   "cell_type": "code",
   "execution_count": null,
   "metadata": {},
   "outputs": [],
   "source": []
  }
 ],
 "metadata": {
  "kernelspec": {
   "display_name": "Python 3",
   "language": "python",
   "name": "python3"
  },
  "language_info": {
   "codemirror_mode": {
    "name": "ipython",
    "version": 3
   },
   "file_extension": ".py",
   "mimetype": "text/x-python",
   "name": "python",
   "nbconvert_exporter": "python",
   "pygments_lexer": "ipython3",
   "version": "3.8.5"
  },
  "toc": {
   "base_numbering": 1,
   "nav_menu": {},
   "number_sections": true,
   "sideBar": true,
   "skip_h1_title": false,
   "title_cell": "Table of Contents",
   "title_sidebar": "Contents",
   "toc_cell": false,
   "toc_position": {},
   "toc_section_display": true,
   "toc_window_display": false
  },
  "varInspector": {
   "cols": {
    "lenName": 16,
    "lenType": 16,
    "lenVar": 40
   },
   "kernels_config": {
    "python": {
     "delete_cmd_postfix": "",
     "delete_cmd_prefix": "del ",
     "library": "var_list.py",
     "varRefreshCmd": "print(var_dic_list())"
    },
    "r": {
     "delete_cmd_postfix": ") ",
     "delete_cmd_prefix": "rm(",
     "library": "var_list.r",
     "varRefreshCmd": "cat(var_dic_list()) "
    }
   },
   "types_to_exclude": [
    "module",
    "function",
    "builtin_function_or_method",
    "instance",
    "_Feature"
   ],
   "window_display": false
  }
 },
 "nbformat": 4,
 "nbformat_minor": 4
}
