{
 "cells": [
  {
   "cell_type": "code",
   "execution_count": 1,
   "metadata": {
    "ExecuteTime": {
     "end_time": "2020-10-21T21:06:13.691103Z",
     "start_time": "2020-10-21T21:06:13.490922Z"
    }
   },
   "outputs": [],
   "source": [
    "import numpy as np\n",
    "X = 2 * np.random.rand(100, 1)\n",
    "y = 4 + 3 * X + np.random.randn(100, 1)"
   ]
  },
  {
   "cell_type": "code",
   "execution_count": 2,
   "metadata": {
    "ExecuteTime": {
     "end_time": "2020-10-21T21:06:13.702114Z",
     "start_time": "2020-10-21T21:06:13.696108Z"
    }
   },
   "outputs": [],
   "source": [
    "X_b = np.c_[np.ones((100, 1)), X] # add x0 = 1 to each instance\n",
    "theta_best = np.linalg.inv(X_b.T.dot(X_b)).dot(X_b.T).dot(y)"
   ]
  },
  {
   "cell_type": "code",
   "execution_count": 3,
   "metadata": {
    "ExecuteTime": {
     "end_time": "2020-10-21T21:06:13.731140Z",
     "start_time": "2020-10-21T21:06:13.705116Z"
    }
   },
   "outputs": [
    {
     "data": {
      "text/plain": [
       "array([[1.        , 1.8711195 ],\n",
       "       [1.        , 0.42240601],\n",
       "       [1.        , 1.066374  ],\n",
       "       [1.        , 0.34877221],\n",
       "       [1.        , 1.8499472 ],\n",
       "       [1.        , 1.51796083],\n",
       "       [1.        , 0.8242564 ],\n",
       "       [1.        , 0.69712165],\n",
       "       [1.        , 0.98987632],\n",
       "       [1.        , 0.52770457],\n",
       "       [1.        , 1.51457701],\n",
       "       [1.        , 1.33751996],\n",
       "       [1.        , 0.37189997],\n",
       "       [1.        , 0.44966195],\n",
       "       [1.        , 1.94029787],\n",
       "       [1.        , 0.13478372],\n",
       "       [1.        , 1.27309176],\n",
       "       [1.        , 1.78974926],\n",
       "       [1.        , 1.84945396],\n",
       "       [1.        , 0.26205262],\n",
       "       [1.        , 1.02477151],\n",
       "       [1.        , 1.87235798],\n",
       "       [1.        , 0.4321508 ],\n",
       "       [1.        , 0.92575799],\n",
       "       [1.        , 0.84445245],\n",
       "       [1.        , 1.4591142 ],\n",
       "       [1.        , 1.0725718 ],\n",
       "       [1.        , 1.8450646 ],\n",
       "       [1.        , 1.23035026],\n",
       "       [1.        , 0.53925325],\n",
       "       [1.        , 0.39911151],\n",
       "       [1.        , 1.31562988],\n",
       "       [1.        , 0.30126362],\n",
       "       [1.        , 1.71288331],\n",
       "       [1.        , 0.40639286],\n",
       "       [1.        , 0.473186  ],\n",
       "       [1.        , 0.35900764],\n",
       "       [1.        , 0.2989533 ],\n",
       "       [1.        , 1.07129853],\n",
       "       [1.        , 1.99404179],\n",
       "       [1.        , 1.5484227 ],\n",
       "       [1.        , 0.72335315],\n",
       "       [1.        , 0.44972129],\n",
       "       [1.        , 1.28610154],\n",
       "       [1.        , 0.75463097],\n",
       "       [1.        , 1.1693905 ],\n",
       "       [1.        , 0.95569937],\n",
       "       [1.        , 1.19333454],\n",
       "       [1.        , 1.34269709],\n",
       "       [1.        , 1.79669789],\n",
       "       [1.        , 1.1370092 ],\n",
       "       [1.        , 1.64433543],\n",
       "       [1.        , 0.21155338],\n",
       "       [1.        , 0.32318891],\n",
       "       [1.        , 1.13253404],\n",
       "       [1.        , 0.53835681],\n",
       "       [1.        , 1.71635611],\n",
       "       [1.        , 1.16385407],\n",
       "       [1.        , 0.55497689],\n",
       "       [1.        , 0.51999281],\n",
       "       [1.        , 0.39205417],\n",
       "       [1.        , 0.20548453],\n",
       "       [1.        , 0.22937915],\n",
       "       [1.        , 0.44357826],\n",
       "       [1.        , 1.69675238],\n",
       "       [1.        , 1.40073865],\n",
       "       [1.        , 1.72731702],\n",
       "       [1.        , 1.69584299],\n",
       "       [1.        , 0.33175363],\n",
       "       [1.        , 1.18736304],\n",
       "       [1.        , 0.32170387],\n",
       "       [1.        , 0.634919  ],\n",
       "       [1.        , 0.20425991],\n",
       "       [1.        , 0.20543105],\n",
       "       [1.        , 1.05141164],\n",
       "       [1.        , 1.97411667],\n",
       "       [1.        , 0.38561449],\n",
       "       [1.        , 0.13352584],\n",
       "       [1.        , 0.33400758],\n",
       "       [1.        , 0.83517488],\n",
       "       [1.        , 1.30029446],\n",
       "       [1.        , 1.82856501],\n",
       "       [1.        , 1.63173925],\n",
       "       [1.        , 1.91536908],\n",
       "       [1.        , 1.12596516],\n",
       "       [1.        , 1.82682127],\n",
       "       [1.        , 1.34560428],\n",
       "       [1.        , 0.90091155],\n",
       "       [1.        , 1.29701508],\n",
       "       [1.        , 0.85085202],\n",
       "       [1.        , 0.86591207],\n",
       "       [1.        , 1.30509248],\n",
       "       [1.        , 0.60874898],\n",
       "       [1.        , 1.37098106],\n",
       "       [1.        , 1.99183513],\n",
       "       [1.        , 1.28675779],\n",
       "       [1.        , 0.48224138],\n",
       "       [1.        , 1.97718286],\n",
       "       [1.        , 0.56678174],\n",
       "       [1.        , 1.35244806]])"
      ]
     },
     "execution_count": 3,
     "metadata": {},
     "output_type": "execute_result"
    }
   ],
   "source": [
    "X_b"
   ]
  },
  {
   "cell_type": "markdown",
   "metadata": {},
   "source": [
    "# Batch Gradient Descent"
   ]
  },
  {
   "cell_type": "code",
   "execution_count": 4,
   "metadata": {
    "ExecuteTime": {
     "end_time": "2020-10-21T21:06:13.784188Z",
     "start_time": "2020-10-21T21:06:13.736144Z"
    }
   },
   "outputs": [],
   "source": [
    "m=100\n",
    "n_epochs = 50\n",
    "t0, t1 = 5, 50 # learning schedule hyperparameters\n",
    "def learning_schedule(t):\n",
    "    return t0 / (t + t1)\n",
    "theta = np.random.randn(2,1) # random initialization\n",
    "count_batch=0\n",
    "for epoch in range(n_epochs):\n",
    "    for i in range(m):\n",
    "        g = 2/m * X_b.T.dot(X_b.dot(theta) - y)\n",
    "        eta = learning_schedule(epoch * m + i)\n",
    "        theta = theta - (eta * g)\n",
    "        count_batch+=1"
   ]
  },
  {
   "cell_type": "code",
   "execution_count": 5,
   "metadata": {
    "ExecuteTime": {
     "end_time": "2020-10-21T21:06:13.792195Z",
     "start_time": "2020-10-21T21:06:13.786190Z"
    }
   },
   "outputs": [
    {
     "name": "stdout",
     "output_type": "stream",
     "text": [
      "[[3.85002749]\n",
      " [3.01670522]] 5000\n"
     ]
    }
   ],
   "source": [
    "print(theta,count_batch)"
   ]
  },
  {
   "cell_type": "code",
   "execution_count": 6,
   "metadata": {
    "ExecuteTime": {
     "end_time": "2020-10-21T21:06:13.881275Z",
     "start_time": "2020-10-21T21:06:13.795198Z"
    }
   },
   "outputs": [],
   "source": [
    "m=100\n",
    "n_epochs = 50\n",
    "t0, t1 = 5, 50 # learning schedule hyperparameters\n",
    "def learning_schedule(t):\n",
    "    return t0 / (t + t1)\n",
    "theta1 = np.random.randn(2,1) # random initialization\n",
    "count_stochastic=0\n",
    "for epoch in range(n_epochs):\n",
    "    for i in range(m):\n",
    "        random_index = np.random.randint(m)\n",
    "        xi = X_b[random_index:random_index+1]\n",
    "        yi = y[random_index:random_index+1]\n",
    "        gradients = 2 * xi.T.dot(xi.dot(theta1) - yi)\n",
    "        eta = learning_schedule(epoch * m + i)\n",
    "        theta1 = theta1 - eta * gradients\n",
    "        count_stochastic+=1"
   ]
  },
  {
   "cell_type": "code",
   "execution_count": 7,
   "metadata": {
    "ExecuteTime": {
     "end_time": "2020-10-21T21:06:13.888283Z",
     "start_time": "2020-10-21T21:06:13.884279Z"
    }
   },
   "outputs": [
    {
     "name": "stdout",
     "output_type": "stream",
     "text": [
      "[[3.87022012]\n",
      " [3.05189872]] 5000\n"
     ]
    }
   ],
   "source": [
    "print(theta1,count_stochastic)"
   ]
  },
  {
   "cell_type": "code",
   "execution_count": 8,
   "metadata": {
    "ExecuteTime": {
     "end_time": "2020-10-21T21:06:13.905298Z",
     "start_time": "2020-10-21T21:06:13.890285Z"
    }
   },
   "outputs": [
    {
     "data": {
      "text/plain": [
       "(100, 2)"
      ]
     },
     "execution_count": 8,
     "metadata": {},
     "output_type": "execute_result"
    }
   ],
   "source": [
    "X_b.shape"
   ]
  },
  {
   "cell_type": "code",
   "execution_count": null,
   "metadata": {},
   "outputs": [],
   "source": []
  }
 ],
 "metadata": {
  "kernelspec": {
   "display_name": "Python 3",
   "language": "python",
   "name": "python3"
  },
  "language_info": {
   "codemirror_mode": {
    "name": "ipython",
    "version": 3
   },
   "file_extension": ".py",
   "mimetype": "text/x-python",
   "name": "python",
   "nbconvert_exporter": "python",
   "pygments_lexer": "ipython3",
   "version": "3.8.5"
  },
  "toc": {
   "base_numbering": 1,
   "nav_menu": {},
   "number_sections": true,
   "sideBar": true,
   "skip_h1_title": false,
   "title_cell": "Table of Contents",
   "title_sidebar": "Contents",
   "toc_cell": false,
   "toc_position": {},
   "toc_section_display": true,
   "toc_window_display": false
  },
  "varInspector": {
   "cols": {
    "lenName": 16,
    "lenType": 16,
    "lenVar": 40
   },
   "kernels_config": {
    "python": {
     "delete_cmd_postfix": "",
     "delete_cmd_prefix": "del ",
     "library": "var_list.py",
     "varRefreshCmd": "print(var_dic_list())"
    },
    "r": {
     "delete_cmd_postfix": ") ",
     "delete_cmd_prefix": "rm(",
     "library": "var_list.r",
     "varRefreshCmd": "cat(var_dic_list()) "
    }
   },
   "types_to_exclude": [
    "module",
    "function",
    "builtin_function_or_method",
    "instance",
    "_Feature"
   ],
   "window_display": false
  }
 },
 "nbformat": 4,
 "nbformat_minor": 4
}
