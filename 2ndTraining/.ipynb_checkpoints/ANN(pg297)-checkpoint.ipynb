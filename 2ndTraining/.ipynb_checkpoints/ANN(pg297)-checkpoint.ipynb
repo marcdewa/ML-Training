{
 "cells": [
  {
   "cell_type": "code",
   "execution_count": 1,
   "metadata": {
    "ExecuteTime": {
     "end_time": "2020-10-16T20:07:33.166088Z",
     "start_time": "2020-10-16T20:07:29.288087Z"
    }
   },
   "outputs": [],
   "source": [
    "import tensorflow as tf\n",
    "from tensorflow import keras"
   ]
  },
  {
   "cell_type": "markdown",
   "metadata": {},
   "source": [
    "# MNIST Fashion Image Classification MLP"
   ]
  },
  {
   "cell_type": "code",
   "execution_count": 2,
   "metadata": {
    "ExecuteTime": {
     "end_time": "2020-10-16T20:07:34.105047Z",
     "start_time": "2020-10-16T20:07:33.168044Z"
    }
   },
   "outputs": [],
   "source": [
    "fashion_mnist = keras.datasets.fashion_mnist\n",
    "(X_train_full, y_train_full), (X_test,y_test) = fashion_mnist.load_data()\n",
    "(X_train_full_1 , y_train_full_1) , (X_test1,y_test1) =fashion_mnist.load_data()"
   ]
  },
  {
   "cell_type": "code",
   "execution_count": 3,
   "metadata": {
    "ExecuteTime": {
     "end_time": "2020-10-16T20:07:34.119052Z",
     "start_time": "2020-10-16T20:07:34.107050Z"
    }
   },
   "outputs": [
    {
     "data": {
      "text/plain": [
       "(60000, 28, 28)"
      ]
     },
     "execution_count": 3,
     "metadata": {},
     "output_type": "execute_result"
    }
   ],
   "source": [
    "X_train_full.shape"
   ]
  },
  {
   "cell_type": "code",
   "execution_count": 4,
   "metadata": {
    "ExecuteTime": {
     "end_time": "2020-10-16T20:07:34.338045Z",
     "start_time": "2020-10-16T20:07:34.121048Z"
    }
   },
   "outputs": [],
   "source": [
    "X_valid,X_train = X_train_full[:5000] / 255.0, X_train_full[5000:]/255.0\n",
    "y_valid, y_train = y_train_full[:5000],y_train_full[5000:]\n"
   ]
  },
  {
   "cell_type": "code",
   "execution_count": 5,
   "metadata": {
    "ExecuteTime": {
     "end_time": "2020-10-16T20:07:34.344048Z",
     "start_time": "2020-10-16T20:07:34.340047Z"
    }
   },
   "outputs": [],
   "source": [
    "class_names = [\"T-shirt/top\", \"Trouser\", \"Pullover\", \"Dress\", \"Coat\",\n",
    " \"Sandal\", \"Shirt\", \"Sneaker\", \"Bag\", \"Ankle boot\"]"
   ]
  },
  {
   "cell_type": "code",
   "execution_count": 6,
   "metadata": {
    "ExecuteTime": {
     "end_time": "2020-10-16T20:07:34.553045Z",
     "start_time": "2020-10-16T20:07:34.348048Z"
    }
   },
   "outputs": [],
   "source": [
    "model = keras.models.Sequential()\n",
    "model.add(keras.layers.Flatten(input_shape=[28, 28]))\n",
    "model.add(keras.layers.Dense(300, activation=\"relu\"))\n",
    "model.add(keras.layers.Dense(100, activation=\"relu\"))\n",
    "model.add(keras.layers.Dense(10, activation=\"softmax\"))\n"
   ]
  },
  {
   "cell_type": "code",
   "execution_count": 7,
   "metadata": {
    "ExecuteTime": {
     "end_time": "2020-10-16T20:07:34.567045Z",
     "start_time": "2020-10-16T20:07:34.556047Z"
    }
   },
   "outputs": [
    {
     "name": "stdout",
     "output_type": "stream",
     "text": [
      "Model: \"sequential\"\n",
      "_________________________________________________________________\n",
      "Layer (type)                 Output Shape              Param #   \n",
      "=================================================================\n",
      "flatten (Flatten)            (None, 784)               0         \n",
      "_________________________________________________________________\n",
      "dense (Dense)                (None, 300)               235500    \n",
      "_________________________________________________________________\n",
      "dense_1 (Dense)              (None, 100)               30100     \n",
      "_________________________________________________________________\n",
      "dense_2 (Dense)              (None, 10)                1010      \n",
      "=================================================================\n",
      "Total params: 266,610\n",
      "Trainable params: 266,610\n",
      "Non-trainable params: 0\n",
      "_________________________________________________________________\n"
     ]
    },
    {
     "data": {
      "text/plain": [
       "'dense'"
      ]
     },
     "execution_count": 7,
     "metadata": {},
     "output_type": "execute_result"
    }
   ],
   "source": [
    "model.summary()\n",
    "model.layers\n",
    "hidden1 = model.layers[1]\n",
    "hidden1.name"
   ]
  },
  {
   "cell_type": "code",
   "execution_count": 8,
   "metadata": {
    "ExecuteTime": {
     "end_time": "2020-10-16T20:07:34.584050Z",
     "start_time": "2020-10-16T20:07:34.571050Z"
    }
   },
   "outputs": [],
   "source": [
    "model.compile(loss=\"sparse_categorical_crossentropy\",\n",
    " optimizer=\"sgd\",\n",
    " metrics=[\"accuracy\"])"
   ]
  },
  {
   "cell_type": "code",
   "execution_count": 9,
   "metadata": {
    "ExecuteTime": {
     "end_time": "2020-10-16T20:14:08.093381Z",
     "start_time": "2020-10-16T20:07:34.586049Z"
    },
    "scrolled": true
   },
   "outputs": [
    {
     "name": "stdout",
     "output_type": "stream",
     "text": [
      "Epoch 1/100\n",
      "1719/1719 [==============================] - 4s 2ms/step - loss: 0.7225 - accuracy: 0.7641 - val_loss: 0.5095 - val_accuracy: 0.8290\n",
      "Epoch 2/100\n",
      "1719/1719 [==============================] - 4s 2ms/step - loss: 0.4862 - accuracy: 0.8315 - val_loss: 0.4455 - val_accuracy: 0.8468\n",
      "Epoch 3/100\n",
      "1719/1719 [==============================] - 4s 2ms/step - loss: 0.4392 - accuracy: 0.8471 - val_loss: 0.4122 - val_accuracy: 0.8574\n",
      "Epoch 4/100\n",
      "1719/1719 [==============================] - 4s 2ms/step - loss: 0.4123 - accuracy: 0.8553 - val_loss: 0.4008 - val_accuracy: 0.8626\n",
      "Epoch 5/100\n",
      "1719/1719 [==============================] - 4s 2ms/step - loss: 0.3919 - accuracy: 0.8626 - val_loss: 0.3746 - val_accuracy: 0.8696\n",
      "Epoch 6/100\n",
      "1719/1719 [==============================] - 4s 2ms/step - loss: 0.3752 - accuracy: 0.8678 - val_loss: 0.3734 - val_accuracy: 0.8704\n",
      "Epoch 7/100\n",
      "1719/1719 [==============================] - 4s 2ms/step - loss: 0.3616 - accuracy: 0.8735 - val_loss: 0.3987 - val_accuracy: 0.8528\n",
      "Epoch 8/100\n",
      "1719/1719 [==============================] - 4s 2ms/step - loss: 0.3500 - accuracy: 0.8772 - val_loss: 0.3502 - val_accuracy: 0.8774\n",
      "Epoch 9/100\n",
      "1719/1719 [==============================] - 4s 2ms/step - loss: 0.3402 - accuracy: 0.8794 - val_loss: 0.3451 - val_accuracy: 0.8770\n",
      "Epoch 10/100\n",
      "1719/1719 [==============================] - 4s 2ms/step - loss: 0.3309 - accuracy: 0.8815 - val_loss: 0.3630 - val_accuracy: 0.8730\n",
      "Epoch 11/100\n",
      "1719/1719 [==============================] - 4s 2ms/step - loss: 0.3222 - accuracy: 0.8845 - val_loss: 0.3342 - val_accuracy: 0.8830\n",
      "Epoch 12/100\n",
      "1719/1719 [==============================] - 4s 2ms/step - loss: 0.3147 - accuracy: 0.8877 - val_loss: 0.3345 - val_accuracy: 0.8800\n",
      "Epoch 13/100\n",
      "1719/1719 [==============================] - 4s 2ms/step - loss: 0.3080 - accuracy: 0.8895 - val_loss: 0.3178 - val_accuracy: 0.8918\n",
      "Epoch 14/100\n",
      "1719/1719 [==============================] - 4s 2ms/step - loss: 0.2996 - accuracy: 0.8932 - val_loss: 0.3313 - val_accuracy: 0.8806\n",
      "Epoch 15/100\n",
      "1719/1719 [==============================] - 4s 2ms/step - loss: 0.2937 - accuracy: 0.8949 - val_loss: 0.3263 - val_accuracy: 0.8834\n",
      "Epoch 16/100\n",
      "1719/1719 [==============================] - 4s 2ms/step - loss: 0.2876 - accuracy: 0.8970 - val_loss: 0.3315 - val_accuracy: 0.8828\n",
      "Epoch 17/100\n",
      "1719/1719 [==============================] - 4s 2ms/step - loss: 0.2827 - accuracy: 0.8979 - val_loss: 0.3096 - val_accuracy: 0.8862\n",
      "Epoch 18/100\n",
      "1719/1719 [==============================] - 4s 2ms/step - loss: 0.2769 - accuracy: 0.9018 - val_loss: 0.3122 - val_accuracy: 0.8880\n",
      "Epoch 19/100\n",
      "1719/1719 [==============================] - 4s 2ms/step - loss: 0.2730 - accuracy: 0.9018 - val_loss: 0.3274 - val_accuracy: 0.8790\n",
      "Epoch 20/100\n",
      "1719/1719 [==============================] - 4s 2ms/step - loss: 0.2676 - accuracy: 0.9034 - val_loss: 0.3021 - val_accuracy: 0.8966\n",
      "Epoch 21/100\n",
      "1719/1719 [==============================] - 4s 2ms/step - loss: 0.2625 - accuracy: 0.9053 - val_loss: 0.3112 - val_accuracy: 0.8930\n",
      "Epoch 22/100\n",
      "1719/1719 [==============================] - 4s 2ms/step - loss: 0.2573 - accuracy: 0.9079 - val_loss: 0.3000 - val_accuracy: 0.8918\n",
      "Epoch 23/100\n",
      "1719/1719 [==============================] - 4s 2ms/step - loss: 0.2528 - accuracy: 0.9095 - val_loss: 0.3109 - val_accuracy: 0.8890\n",
      "Epoch 24/100\n",
      "1719/1719 [==============================] - 4s 2ms/step - loss: 0.2496 - accuracy: 0.9108 - val_loss: 0.2926 - val_accuracy: 0.8966\n",
      "Epoch 25/100\n",
      "1719/1719 [==============================] - 4s 2ms/step - loss: 0.2441 - accuracy: 0.9119 - val_loss: 0.2891 - val_accuracy: 0.8950\n",
      "Epoch 26/100\n",
      "1719/1719 [==============================] - 4s 2ms/step - loss: 0.2405 - accuracy: 0.9144 - val_loss: 0.3086 - val_accuracy: 0.8908\n",
      "Epoch 27/100\n",
      "1719/1719 [==============================] - 4s 2ms/step - loss: 0.2364 - accuracy: 0.9145 - val_loss: 0.3048 - val_accuracy: 0.8892\n",
      "Epoch 28/100\n",
      "1719/1719 [==============================] - 4s 2ms/step - loss: 0.2316 - accuracy: 0.9166 - val_loss: 0.2960 - val_accuracy: 0.8926\n",
      "Epoch 29/100\n",
      "1719/1719 [==============================] - 4s 2ms/step - loss: 0.2291 - accuracy: 0.9175 - val_loss: 0.2873 - val_accuracy: 0.8964\n",
      "Epoch 30/100\n",
      "1719/1719 [==============================] - 4s 2ms/step - loss: 0.2249 - accuracy: 0.9189 - val_loss: 0.3008 - val_accuracy: 0.8878\n",
      "Epoch 31/100\n",
      "1719/1719 [==============================] - 4s 2ms/step - loss: 0.2208 - accuracy: 0.9221 - val_loss: 0.3041 - val_accuracy: 0.8894\n",
      "Epoch 32/100\n",
      "1719/1719 [==============================] - 4s 2ms/step - loss: 0.2172 - accuracy: 0.9209 - val_loss: 0.2975 - val_accuracy: 0.8876\n",
      "Epoch 33/100\n",
      "1719/1719 [==============================] - 4s 2ms/step - loss: 0.2141 - accuracy: 0.9228 - val_loss: 0.2939 - val_accuracy: 0.8952\n",
      "Epoch 34/100\n",
      "1719/1719 [==============================] - 4s 2ms/step - loss: 0.2111 - accuracy: 0.9245 - val_loss: 0.2956 - val_accuracy: 0.8940\n",
      "Epoch 35/100\n",
      "1719/1719 [==============================] - 4s 2ms/step - loss: 0.2079 - accuracy: 0.9259 - val_loss: 0.3138 - val_accuracy: 0.8904\n",
      "Epoch 36/100\n",
      "1719/1719 [==============================] - 4s 2ms/step - loss: 0.2046 - accuracy: 0.9267 - val_loss: 0.3043 - val_accuracy: 0.8952\n",
      "Epoch 37/100\n",
      "1719/1719 [==============================] - 4s 2ms/step - loss: 0.2014 - accuracy: 0.9281 - val_loss: 0.2951 - val_accuracy: 0.8974\n",
      "Epoch 38/100\n",
      "1719/1719 [==============================] - 4s 2ms/step - loss: 0.1981 - accuracy: 0.9296 - val_loss: 0.2836 - val_accuracy: 0.8970\n",
      "Epoch 39/100\n",
      "1719/1719 [==============================] - 4s 2ms/step - loss: 0.1942 - accuracy: 0.9304 - val_loss: 0.3024 - val_accuracy: 0.8944\n",
      "Epoch 40/100\n",
      "1719/1719 [==============================] - 4s 2ms/step - loss: 0.1916 - accuracy: 0.9314 - val_loss: 0.3437 - val_accuracy: 0.8808\n",
      "Epoch 41/100\n",
      "1719/1719 [==============================] - 4s 2ms/step - loss: 0.1891 - accuracy: 0.9321 - val_loss: 0.2928 - val_accuracy: 0.8980\n",
      "Epoch 42/100\n",
      "1719/1719 [==============================] - 4s 2ms/step - loss: 0.1853 - accuracy: 0.9333 - val_loss: 0.3011 - val_accuracy: 0.8986\n",
      "Epoch 43/100\n",
      "1719/1719 [==============================] - 4s 2ms/step - loss: 0.1831 - accuracy: 0.9344 - val_loss: 0.2969 - val_accuracy: 0.8956\n",
      "Epoch 44/100\n",
      "1719/1719 [==============================] - 4s 2ms/step - loss: 0.1801 - accuracy: 0.9354 - val_loss: 0.2886 - val_accuracy: 0.8972\n",
      "Epoch 45/100\n",
      "1719/1719 [==============================] - 4s 2ms/step - loss: 0.1772 - accuracy: 0.9365 - val_loss: 0.2889 - val_accuracy: 0.8980\n",
      "Epoch 46/100\n",
      "1719/1719 [==============================] - 4s 2ms/step - loss: 0.1749 - accuracy: 0.9371 - val_loss: 0.3251 - val_accuracy: 0.8800\n",
      "Epoch 47/100\n",
      "1719/1719 [==============================] - 4s 2ms/step - loss: 0.1720 - accuracy: 0.9386 - val_loss: 0.3104 - val_accuracy: 0.8862\n",
      "Epoch 48/100\n",
      "1719/1719 [==============================] - 4s 2ms/step - loss: 0.1683 - accuracy: 0.9403 - val_loss: 0.2863 - val_accuracy: 0.8990\n",
      "Epoch 49/100\n",
      "1719/1719 [==============================] - 4s 2ms/step - loss: 0.1652 - accuracy: 0.9403 - val_loss: 0.2763 - val_accuracy: 0.9012\n",
      "Epoch 50/100\n",
      "1719/1719 [==============================] - 4s 2ms/step - loss: 0.1638 - accuracy: 0.9421 - val_loss: 0.2861 - val_accuracy: 0.8968\n",
      "Epoch 51/100\n",
      "1719/1719 [==============================] - 4s 2ms/step - loss: 0.1610 - accuracy: 0.9430 - val_loss: 0.2911 - val_accuracy: 0.8988\n",
      "Epoch 52/100\n",
      "1719/1719 [==============================] - 4s 2ms/step - loss: 0.1585 - accuracy: 0.9437 - val_loss: 0.3110 - val_accuracy: 0.8930\n",
      "Epoch 53/100\n",
      "1719/1719 [==============================] - 4s 2ms/step - loss: 0.1568 - accuracy: 0.9447 - val_loss: 0.2953 - val_accuracy: 0.8954\n",
      "Epoch 54/100\n",
      "1719/1719 [==============================] - 4s 2ms/step - loss: 0.1537 - accuracy: 0.9446 - val_loss: 0.2796 - val_accuracy: 0.9002\n",
      "Epoch 55/100\n",
      "1719/1719 [==============================] - 4s 2ms/step - loss: 0.1498 - accuracy: 0.9474 - val_loss: 0.2975 - val_accuracy: 0.8944\n",
      "Epoch 56/100\n",
      "1719/1719 [==============================] - 4s 2ms/step - loss: 0.1491 - accuracy: 0.9476 - val_loss: 0.3007 - val_accuracy: 0.8966\n",
      "Epoch 57/100\n"
     ]
    },
    {
     "name": "stdout",
     "output_type": "stream",
     "text": [
      "1719/1719 [==============================] - 4s 2ms/step - loss: 0.1467 - accuracy: 0.9474 - val_loss: 0.3014 - val_accuracy: 0.8966\n",
      "Epoch 58/100\n",
      "1719/1719 [==============================] - 4s 2ms/step - loss: 0.1435 - accuracy: 0.9495 - val_loss: 0.2946 - val_accuracy: 0.9000\n",
      "Epoch 59/100\n",
      "1719/1719 [==============================] - 4s 2ms/step - loss: 0.1407 - accuracy: 0.9506 - val_loss: 0.2955 - val_accuracy: 0.8998\n",
      "Epoch 60/100\n",
      "1719/1719 [==============================] - 4s 2ms/step - loss: 0.1386 - accuracy: 0.9509 - val_loss: 0.3156 - val_accuracy: 0.8916\n",
      "Epoch 61/100\n",
      "1719/1719 [==============================] - 4s 2ms/step - loss: 0.1364 - accuracy: 0.9516 - val_loss: 0.2951 - val_accuracy: 0.8992\n",
      "Epoch 62/100\n",
      "1719/1719 [==============================] - 4s 2ms/step - loss: 0.1346 - accuracy: 0.9525 - val_loss: 0.2976 - val_accuracy: 0.8988\n",
      "Epoch 63/100\n",
      "1719/1719 [==============================] - 4s 2ms/step - loss: 0.1324 - accuracy: 0.9536 - val_loss: 0.2853 - val_accuracy: 0.8994\n",
      "Epoch 64/100\n",
      "1719/1719 [==============================] - 4s 2ms/step - loss: 0.1304 - accuracy: 0.9535 - val_loss: 0.3168 - val_accuracy: 0.8974\n",
      "Epoch 65/100\n",
      "1719/1719 [==============================] - 4s 2ms/step - loss: 0.1287 - accuracy: 0.9544 - val_loss: 0.2972 - val_accuracy: 0.8970\n",
      "Epoch 66/100\n",
      "1719/1719 [==============================] - 4s 2ms/step - loss: 0.1253 - accuracy: 0.9572 - val_loss: 0.2979 - val_accuracy: 0.8990\n",
      "Epoch 67/100\n",
      "1719/1719 [==============================] - 4s 2ms/step - loss: 0.1235 - accuracy: 0.9567 - val_loss: 0.2991 - val_accuracy: 0.8994\n",
      "Epoch 68/100\n",
      "1719/1719 [==============================] - 4s 2ms/step - loss: 0.1222 - accuracy: 0.9577 - val_loss: 0.3308 - val_accuracy: 0.8902\n",
      "Epoch 69/100\n",
      "1719/1719 [==============================] - 4s 2ms/step - loss: 0.1196 - accuracy: 0.9582 - val_loss: 0.3099 - val_accuracy: 0.8970\n",
      "Epoch 70/100\n",
      "1719/1719 [==============================] - 4s 2ms/step - loss: 0.1178 - accuracy: 0.9591 - val_loss: 0.3591 - val_accuracy: 0.8930\n",
      "Epoch 71/100\n",
      "1719/1719 [==============================] - 4s 2ms/step - loss: 0.1156 - accuracy: 0.9593 - val_loss: 0.3590 - val_accuracy: 0.8860\n",
      "Epoch 72/100\n",
      "1719/1719 [==============================] - 4s 2ms/step - loss: 0.1129 - accuracy: 0.9598 - val_loss: 0.3294 - val_accuracy: 0.8944\n",
      "Epoch 73/100\n",
      "1719/1719 [==============================] - 4s 2ms/step - loss: 0.1120 - accuracy: 0.9605 - val_loss: 0.3219 - val_accuracy: 0.8978\n",
      "Epoch 74/100\n",
      "1719/1719 [==============================] - 4s 2ms/step - loss: 0.1104 - accuracy: 0.9611 - val_loss: 0.3053 - val_accuracy: 0.9002\n",
      "Epoch 75/100\n",
      "1719/1719 [==============================] - 4s 2ms/step - loss: 0.1072 - accuracy: 0.9632 - val_loss: 0.3144 - val_accuracy: 0.9000\n",
      "Epoch 76/100\n",
      "1719/1719 [==============================] - 4s 2ms/step - loss: 0.1070 - accuracy: 0.9633 - val_loss: 0.3121 - val_accuracy: 0.9012\n",
      "Epoch 77/100\n",
      "1719/1719 [==============================] - 4s 2ms/step - loss: 0.1050 - accuracy: 0.9634 - val_loss: 0.3149 - val_accuracy: 0.9000\n",
      "Epoch 78/100\n",
      "1719/1719 [==============================] - 4s 2ms/step - loss: 0.1014 - accuracy: 0.9646 - val_loss: 0.3224 - val_accuracy: 0.8974\n",
      "Epoch 79/100\n",
      "1719/1719 [==============================] - 4s 2ms/step - loss: 0.1004 - accuracy: 0.9658 - val_loss: 0.3264 - val_accuracy: 0.8920\n",
      "Epoch 80/100\n",
      "1719/1719 [==============================] - 4s 2ms/step - loss: 0.0987 - accuracy: 0.9665 - val_loss: 0.3102 - val_accuracy: 0.9012\n",
      "Epoch 81/100\n",
      "1719/1719 [==============================] - 4s 2ms/step - loss: 0.0978 - accuracy: 0.9660 - val_loss: 0.3973 - val_accuracy: 0.8854\n",
      "Epoch 82/100\n",
      "1719/1719 [==============================] - 4s 2ms/step - loss: 0.0945 - accuracy: 0.9669 - val_loss: 0.3341 - val_accuracy: 0.8988\n",
      "Epoch 83/100\n",
      "1719/1719 [==============================] - 4s 2ms/step - loss: 0.0940 - accuracy: 0.9675 - val_loss: 0.3524 - val_accuracy: 0.8942\n",
      "Epoch 84/100\n",
      "1719/1719 [==============================] - 4s 2ms/step - loss: 0.0923 - accuracy: 0.9678 - val_loss: 0.3399 - val_accuracy: 0.8992\n",
      "Epoch 85/100\n",
      "1719/1719 [==============================] - 4s 2ms/step - loss: 0.0921 - accuracy: 0.9688 - val_loss: 0.3386 - val_accuracy: 0.8978\n",
      "Epoch 86/100\n",
      "1719/1719 [==============================] - 4s 2ms/step - loss: 0.0895 - accuracy: 0.9699 - val_loss: 0.3417 - val_accuracy: 0.8930\n",
      "Epoch 87/100\n",
      "1719/1719 [==============================] - 4s 2ms/step - loss: 0.0880 - accuracy: 0.9691 - val_loss: 0.3406 - val_accuracy: 0.8964\n",
      "Epoch 88/100\n",
      "1719/1719 [==============================] - 4s 2ms/step - loss: 0.0857 - accuracy: 0.9712 - val_loss: 0.3354 - val_accuracy: 0.9002\n",
      "Epoch 89/100\n",
      "1719/1719 [==============================] - 4s 2ms/step - loss: 0.0854 - accuracy: 0.9709 - val_loss: 0.3527 - val_accuracy: 0.8970\n",
      "Epoch 90/100\n",
      "1719/1719 [==============================] - 5s 3ms/step - loss: 0.0834 - accuracy: 0.9719 - val_loss: 0.3356 - val_accuracy: 0.8984\n",
      "Epoch 91/100\n",
      "1719/1719 [==============================] - 5s 3ms/step - loss: 0.0816 - accuracy: 0.9724 - val_loss: 0.3579 - val_accuracy: 0.8970\n",
      "Epoch 92/100\n",
      "1719/1719 [==============================] - 5s 3ms/step - loss: 0.0805 - accuracy: 0.9730 - val_loss: 0.3380 - val_accuracy: 0.9004\n",
      "Epoch 93/100\n",
      "1719/1719 [==============================] - 4s 2ms/step - loss: 0.0784 - accuracy: 0.9736 - val_loss: 0.3576 - val_accuracy: 0.8980\n",
      "Epoch 94/100\n",
      "1719/1719 [==============================] - 4s 2ms/step - loss: 0.0768 - accuracy: 0.9740 - val_loss: 0.3533 - val_accuracy: 0.9022\n",
      "Epoch 95/100\n",
      "1719/1719 [==============================] - 4s 2ms/step - loss: 0.0755 - accuracy: 0.9744 - val_loss: 0.3495 - val_accuracy: 0.9018\n",
      "Epoch 96/100\n",
      "1719/1719 [==============================] - 4s 2ms/step - loss: 0.0739 - accuracy: 0.9750 - val_loss: 0.3440 - val_accuracy: 0.9042\n",
      "Epoch 97/100\n",
      "1719/1719 [==============================] - 4s 2ms/step - loss: 0.0724 - accuracy: 0.9758 - val_loss: 0.4382 - val_accuracy: 0.8754\n",
      "Epoch 98/100\n",
      "1719/1719 [==============================] - 4s 2ms/step - loss: 0.0718 - accuracy: 0.9762 - val_loss: 0.3550 - val_accuracy: 0.8962\n",
      "Epoch 99/100\n",
      "1719/1719 [==============================] - 4s 2ms/step - loss: 0.0710 - accuracy: 0.9761 - val_loss: 0.3508 - val_accuracy: 0.8982\n",
      "Epoch 100/100\n",
      "1719/1719 [==============================] - 5s 3ms/step - loss: 0.0698 - accuracy: 0.9763 - val_loss: 0.3470 - val_accuracy: 0.8966\n"
     ]
    }
   ],
   "source": [
    "test_fit = model.fit(X_train, y_train, epochs=30,validation_data=(X_valid, y_valid))"
   ]
  },
  {
   "cell_type": "code",
   "execution_count": null,
   "metadata": {
    "ExecuteTime": {
     "end_time": "2020-10-16T20:14:32.399939Z",
     "start_time": "2020-10-16T20:14:29.499Z"
    }
   },
   "outputs": [],
   "source": [
    "y_pred = model.predict(X_test)\n",
    "print(y_train)"
   ]
  },
  {
   "cell_type": "code",
   "execution_count": 23,
   "metadata": {
    "ExecuteTime": {
     "end_time": "2020-10-16T20:15:44.789518Z",
     "start_time": "2020-10-16T20:15:44.227518Z"
    }
   },
   "outputs": [
    {
     "data": {
      "image/png": "[encoded data removed]",
      "text/plain": [
       "<Figure size 576x360 with 1 Axes>"
      ]
     },
     "metadata": {
      "needs_background": "light"
     },
     "output_type": "display_data"
    },
    {
     "data": {
      "image/png": "[encoded data removed]",
      "text/plain": [
       "<Figure size 576x360 with 1 Axes>"
      ]
     },
     "metadata": {
      "needs_background": "light"
     },
     "output_type": "display_data"
    }
   ],
   "source": [
    "import pandas as pd\n",
    "import matplotlib.pyplot as plt\n",
    "import numpy as np\n",
    "\n",
    "pd.DataFrame(test_fit.history).plot(figsize=(8,5))\n",
    "plt.grid()\n",
    "plt.show()"
   ]
  },
  {
   "cell_type": "code",
   "execution_count": 12,
   "metadata": {
    "ExecuteTime": {
     "end_time": "2020-10-16T20:14:09.824938Z",
     "start_time": "2020-10-16T20:14:09.745938Z"
    }
   },
   "outputs": [
    {
     "name": "stdout",
     "output_type": "stream",
     "text": [
      "WARNING:tensorflow:From <ipython-input-12-5bd3b91a4a01>:2: Sequential.predict_classes (from tensorflow.python.keras.engine.sequential) is deprecated and will be removed after 2021-01-01.\n",
      "Instructions for updating:\n",
      "Please use instead:* `np.argmax(model.predict(x), axis=-1)`,   if your model does multi-class classification   (e.g. if it uses a `softmax` last-layer activation).* `(model.predict(x) > 0.5).astype(\"int32\")`,   if your model does binary classification   (e.g. if it uses a `sigmoid` last-layer activation).\n"
     ]
    },
    {
     "data": {
      "text/plain": [
       "array(['Ankle boot', 'Pullover', 'Trouser'], dtype='<U11')"
      ]
     },
     "execution_count": 12,
     "metadata": {},
     "output_type": "execute_result"
    }
   ],
   "source": [
    "X_new = X_test[:3]\n",
    "y_pred = model.predict_classes(X_new)\n",
    "y_pred\n",
    "np.array(class_names)[y_pred]"
   ]
  },
  {
   "cell_type": "markdown",
   "metadata": {},
   "source": [
    "# California House Regression MLP"
   ]
  },
  {
   "cell_type": "code",
   "execution_count": 13,
   "metadata": {
    "ExecuteTime": {
     "end_time": "2020-10-16T20:14:10.386935Z",
     "start_time": "2020-10-16T20:14:09.827939Z"
    }
   },
   "outputs": [],
   "source": [
    "from sklearn.datasets import fetch_california_housing\n",
    "from sklearn.model_selection import train_test_split\n",
    "from sklearn.preprocessing import StandardScaler"
   ]
  },
  {
   "cell_type": "code",
   "execution_count": 14,
   "metadata": {
    "ExecuteTime": {
     "end_time": "2020-10-16T20:14:10.403937Z",
     "start_time": "2020-10-16T20:14:10.388937Z"
    }
   },
   "outputs": [],
   "source": [
    "dataset = fetch_california_housing()"
   ]
  },
  {
   "cell_type": "code",
   "execution_count": 15,
   "metadata": {
    "ExecuteTime": {
     "end_time": "2020-10-16T20:14:10.424937Z",
     "start_time": "2020-10-16T20:14:10.405938Z"
    }
   },
   "outputs": [],
   "source": [
    "X_train_full , X_test , y_train_full , y_test = train_test_split(dataset.data,dataset.target)"
   ]
  },
  {
   "cell_type": "code",
   "execution_count": 16,
   "metadata": {
    "ExecuteTime": {
     "end_time": "2020-10-16T20:14:10.472935Z",
     "start_time": "2020-10-16T20:14:10.426936Z"
    }
   },
   "outputs": [],
   "source": [
    "X_train , X_valid , y_train , y_valid = train_test_split(X_train_full,y_train_full)"
   ]
  },
  {
   "cell_type": "code",
   "execution_count": 17,
   "metadata": {
    "ExecuteTime": {
     "end_time": "2020-10-16T20:14:10.485938Z",
     "start_time": "2020-10-16T20:14:10.474938Z"
    }
   },
   "outputs": [],
   "source": [
    "sc = StandardScaler()\n",
    "X_train = sc.fit_transform(X_train)\n",
    "X_valid = sc.transform(X_valid)\n",
    "X_test = sc.transform(X_test)"
   ]
  },
  {
   "cell_type": "code",
   "execution_count": 18,
   "metadata": {
    "ExecuteTime": {
     "end_time": "2020-10-16T20:14:10.526932Z",
     "start_time": "2020-10-16T20:14:10.488938Z"
    }
   },
   "outputs": [],
   "source": [
    "model_housing = keras.models.Sequential([\n",
    "        keras.layers.Dense(30,activation=\"relu\",input_shape=X_train.shape[1:]),\n",
    "        keras.layers.Dense(1)\n",
    "])"
   ]
  },
  {
   "cell_type": "code",
   "execution_count": 19,
   "metadata": {
    "ExecuteTime": {
     "end_time": "2020-10-16T20:14:30.960937Z",
     "start_time": "2020-10-16T20:14:10.529941Z"
    }
   },
   "outputs": [
    {
     "name": "stdout",
     "output_type": "stream",
     "text": [
      "Epoch 1/50\n",
      "363/363 [==============================] - 0s 1ms/step - loss: 1.1639 - val_loss: 0.5076\n",
      "Epoch 2/50\n",
      "363/363 [==============================] - 0s 1ms/step - loss: 0.4865 - val_loss: 0.4610\n",
      "Epoch 3/50\n",
      "363/363 [==============================] - 0s 1ms/step - loss: 0.4567 - val_loss: 0.4452\n",
      "Epoch 4/50\n",
      "363/363 [==============================] - 0s 1ms/step - loss: 0.4445 - val_loss: 0.4339\n",
      "Epoch 5/50\n",
      "363/363 [==============================] - 0s 1ms/step - loss: 0.4337 - val_loss: 0.4262\n",
      "Epoch 6/50\n",
      "363/363 [==============================] - 0s 1ms/step - loss: 0.4398 - val_loss: 0.4234\n",
      "Epoch 7/50\n",
      "363/363 [==============================] - 0s 1ms/step - loss: 0.4216 - val_loss: 0.4153\n",
      "Epoch 8/50\n",
      "363/363 [==============================] - 0s 1ms/step - loss: 0.4147 - val_loss: 0.4153\n",
      "Epoch 9/50\n",
      "363/363 [==============================] - 0s 1ms/step - loss: 0.4280 - val_loss: 0.4133\n",
      "Epoch 10/50\n",
      "363/363 [==============================] - 0s 1ms/step - loss: 0.4079 - val_loss: 0.4101\n",
      "Epoch 11/50\n",
      "363/363 [==============================] - 0s 1ms/step - loss: 0.4061 - val_loss: 0.4021\n",
      "Epoch 12/50\n",
      "363/363 [==============================] - 0s 1ms/step - loss: 0.3976 - val_loss: 0.3982\n",
      "Epoch 13/50\n",
      "363/363 [==============================] - 0s 1ms/step - loss: 0.3965 - val_loss: 0.3971\n",
      "Epoch 14/50\n",
      "363/363 [==============================] - 0s 1ms/step - loss: 0.3949 - val_loss: 0.3899\n",
      "Epoch 15/50\n",
      "363/363 [==============================] - 0s 1ms/step - loss: 0.3871 - val_loss: 0.3862\n",
      "Epoch 16/50\n",
      "363/363 [==============================] - 0s 1ms/step - loss: 0.3842 - val_loss: 0.3835\n",
      "Epoch 17/50\n",
      "363/363 [==============================] - 0s 1ms/step - loss: 0.3816 - val_loss: 0.3820\n",
      "Epoch 18/50\n",
      "363/363 [==============================] - 0s 1ms/step - loss: 0.3779 - val_loss: 0.3780\n",
      "Epoch 19/50\n",
      "363/363 [==============================] - 0s 1ms/step - loss: 0.3760 - val_loss: 0.3744\n",
      "Epoch 20/50\n",
      "363/363 [==============================] - 0s 1ms/step - loss: 0.3828 - val_loss: 0.3782\n",
      "Epoch 21/50\n",
      "363/363 [==============================] - 0s 1ms/step - loss: 0.3830 - val_loss: 0.3745\n",
      "Epoch 22/50\n",
      "363/363 [==============================] - 0s 1ms/step - loss: 0.3696 - val_loss: 0.3677\n",
      "Epoch 23/50\n",
      "363/363 [==============================] - 0s 1ms/step - loss: 0.4011 - val_loss: 0.3758\n",
      "Epoch 24/50\n",
      "363/363 [==============================] - 0s 1ms/step - loss: 0.3699 - val_loss: 0.3657\n",
      "Epoch 25/50\n",
      "363/363 [==============================] - 0s 1ms/step - loss: 0.3689 - val_loss: 0.3631\n",
      "Epoch 26/50\n",
      "363/363 [==============================] - 0s 1ms/step - loss: 0.3636 - val_loss: 0.3683\n",
      "Epoch 27/50\n",
      "363/363 [==============================] - 0s 1ms/step - loss: 0.3654 - val_loss: 0.3600\n",
      "Epoch 28/50\n",
      "363/363 [==============================] - 0s 1ms/step - loss: 0.3625 - val_loss: 0.3669\n",
      "Epoch 29/50\n",
      "363/363 [==============================] - 0s 1ms/step - loss: 0.3656 - val_loss: 0.3592\n",
      "Epoch 30/50\n",
      "363/363 [==============================] - 0s 1ms/step - loss: 0.3658 - val_loss: 0.3542\n",
      "Epoch 31/50\n",
      "363/363 [==============================] - 0s 1ms/step - loss: 0.3553 - val_loss: 0.3595\n",
      "Epoch 32/50\n",
      "363/363 [==============================] - 0s 1ms/step - loss: 0.3570 - val_loss: 0.3526\n",
      "Epoch 33/50\n",
      "363/363 [==============================] - 0s 1ms/step - loss: 0.3527 - val_loss: 0.3491\n",
      "Epoch 34/50\n",
      "363/363 [==============================] - 0s 1ms/step - loss: 0.3530 - val_loss: 0.3525\n",
      "Epoch 35/50\n",
      "363/363 [==============================] - 0s 1ms/step - loss: 0.3489 - val_loss: 0.3600\n",
      "Epoch 36/50\n",
      "363/363 [==============================] - 0s 1ms/step - loss: 0.3471 - val_loss: 0.3559\n",
      "Epoch 37/50\n",
      "363/363 [==============================] - 0s 1ms/step - loss: 0.3474 - val_loss: 0.3448\n",
      "Epoch 38/50\n",
      "363/363 [==============================] - 0s 1ms/step - loss: 0.3498 - val_loss: 0.3469\n",
      "Epoch 39/50\n",
      "363/363 [==============================] - 0s 1ms/step - loss: 0.3451 - val_loss: 0.3511\n",
      "Epoch 40/50\n",
      "363/363 [==============================] - 0s 1ms/step - loss: 0.3415 - val_loss: 0.3471\n",
      "Epoch 41/50\n",
      "363/363 [==============================] - 0s 1ms/step - loss: 0.3417 - val_loss: 0.3377\n",
      "Epoch 42/50\n",
      "363/363 [==============================] - 0s 1ms/step - loss: 0.3382 - val_loss: 0.3409\n",
      "Epoch 43/50\n",
      "363/363 [==============================] - 0s 1ms/step - loss: 0.3482 - val_loss: 0.5807\n",
      "Epoch 44/50\n",
      "363/363 [==============================] - 0s 1ms/step - loss: 0.3850 - val_loss: 0.3419\n",
      "Epoch 45/50\n",
      "363/363 [==============================] - 0s 1ms/step - loss: 0.3584 - val_loss: 0.3775\n",
      "Epoch 46/50\n",
      "363/363 [==============================] - 0s 1ms/step - loss: 0.3625 - val_loss: 0.3988\n",
      "Epoch 47/50\n",
      "363/363 [==============================] - 0s 1ms/step - loss: 0.3569 - val_loss: 0.3466\n",
      "Epoch 48/50\n",
      "363/363 [==============================] - 0s 1000us/step - loss: 0.3435 - val_loss: 0.3369\n",
      "Epoch 49/50\n",
      "363/363 [==============================] - 0s 1ms/step - loss: 0.3490 - val_loss: 0.3430\n",
      "Epoch 50/50\n",
      "363/363 [==============================] - 0s 1ms/step - loss: 0.3372 - val_loss: 0.3359\n"
     ]
    }
   ],
   "source": [
    "model_housing.compile(loss=\"mean_squared_error\",optimizer='sgd')\n",
    "history = model_housing.fit(X_train,y_train,epochs=50,\n",
    "                            validation_data=(X_valid,y_valid))"
   ]
  },
  {
   "cell_type": "code",
   "execution_count": null,
   "metadata": {},
   "outputs": [],
   "source": []
  }
 ],
 "metadata": {
  "kernelspec": {
   "display_name": "Python 3",
   "language": "python",
   "name": "python3"
  },
  "language_info": {
   "codemirror_mode": {
    "name": "ipython",
    "version": 3
   },
   "file_extension": ".py",
   "mimetype": "text/x-python",
   "name": "python",
   "nbconvert_exporter": "python",
   "pygments_lexer": "ipython3",
   "version": "3.8.5"
  },
  "toc": {
   "base_numbering": 1,
   "nav_menu": {},
   "number_sections": true,
   "sideBar": true,
   "skip_h1_title": false,
   "title_cell": "Table of Contents",
   "title_sidebar": "Contents",
   "toc_cell": false,
   "toc_position": {},
   "toc_section_display": true,
   "toc_window_display": false
  },
  "varInspector": {
   "cols": {
    "lenName": 16,
    "lenType": 16,
    "lenVar": 40
   },
   "kernels_config": {
    "python": {
     "delete_cmd_postfix": "",
     "delete_cmd_prefix": "del ",
     "library": "var_list.py",
     "varRefreshCmd": "print(var_dic_list())"
    },
    "r": {
     "delete_cmd_postfix": ") ",
     "delete_cmd_prefix": "rm(",
     "library": "var_list.r",
     "varRefreshCmd": "cat(var_dic_list()) "
    }
   },
   "types_to_exclude": [
    "module",
    "function",
    "builtin_function_or_method",
    "instance",
    "_Feature"
   ],
   "window_display": false
  }
 },
 "nbformat": 4,
 "nbformat_minor": 4
}
