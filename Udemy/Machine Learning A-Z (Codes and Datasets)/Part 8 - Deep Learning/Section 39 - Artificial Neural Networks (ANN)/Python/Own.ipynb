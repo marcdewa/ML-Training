{
 "cells": [
  {
   "cell_type": "code",
   "execution_count": 1,
   "metadata": {
    "ExecuteTime": {
     "end_time": "2020-10-14T19:37:59.889789Z",
     "start_time": "2020-10-14T19:37:55.605852Z"
    }
   },
   "outputs": [],
   "source": [
    "import numpy as np\n",
    "import pandas as pd\n",
    "import tensorflow as tf"
   ]
  },
  {
   "cell_type": "code",
   "execution_count": 2,
   "metadata": {
    "ExecuteTime": {
     "end_time": "2020-10-14T19:37:59.914792Z",
     "start_time": "2020-10-14T19:37:59.893792Z"
    }
   },
   "outputs": [
    {
     "data": {
      "text/plain": [
       "'2.3.1'"
      ]
     },
     "execution_count": 2,
     "metadata": {},
     "output_type": "execute_result"
    }
   ],
   "source": [
    "tf.__version__"
   ]
  },
  {
   "cell_type": "code",
   "execution_count": 3,
   "metadata": {
    "ExecuteTime": {
     "end_time": "2020-10-14T19:38:00.562655Z",
     "start_time": "2020-10-14T19:37:59.920791Z"
    }
   },
   "outputs": [],
   "source": [
    "dataset = pd.read_csv('Churn_Modelling.csv')\n",
    "X=dataset.iloc[:,3:-1].values\n",
    "y=dataset.iloc[:,-1].values"
   ]
  },
  {
   "cell_type": "code",
   "execution_count": 4,
   "metadata": {
    "ExecuteTime": {
     "end_time": "2020-10-14T19:38:00.572644Z",
     "start_time": "2020-10-14T19:38:00.563643Z"
    }
   },
   "outputs": [
    {
     "name": "stdout",
     "output_type": "stream",
     "text": [
      "[[619 'France' 'Female' ... 1 1 101348.88]\n",
      " [608 'Spain' 'Female' ... 0 1 112542.58]\n",
      " [502 'France' 'Female' ... 1 0 113931.57]\n",
      " ...\n",
      " [709 'France' 'Female' ... 0 1 42085.58]\n",
      " [772 'Germany' 'Male' ... 1 0 92888.52]\n",
      " [792 'France' 'Female' ... 1 0 38190.78]]\n",
      "[1 0 1 ... 1 1 0]\n"
     ]
    }
   ],
   "source": [
    "print(X)\n",
    "print(y)"
   ]
  },
  {
   "cell_type": "code",
   "execution_count": 5,
   "metadata": {
    "ExecuteTime": {
     "end_time": "2020-10-14T19:38:00.660746Z",
     "start_time": "2020-10-14T19:38:00.575645Z"
    }
   },
   "outputs": [
    {
     "data": {
      "text/html": [
       "<div>\n",
       "<style scoped>\n",
       "    .dataframe tbody tr th:only-of-type {\n",
       "        vertical-align: middle;\n",
       "    }\n",
       "\n",
       "    .dataframe tbody tr th {\n",
       "        vertical-align: top;\n",
       "    }\n",
       "\n",
       "    .dataframe thead th {\n",
       "        text-align: right;\n",
       "    }\n",
       "</style>\n",
       "<table border=\"1\" class=\"dataframe\">\n",
       "  <thead>\n",
       "    <tr style=\"text-align: right;\">\n",
       "      <th></th>\n",
       "      <th>RowNumber</th>\n",
       "      <th>CustomerId</th>\n",
       "      <th>Surname</th>\n",
       "      <th>CreditScore</th>\n",
       "      <th>Geography</th>\n",
       "      <th>Gender</th>\n",
       "      <th>Age</th>\n",
       "      <th>Tenure</th>\n",
       "      <th>Balance</th>\n",
       "      <th>NumOfProducts</th>\n",
       "      <th>HasCrCard</th>\n",
       "      <th>IsActiveMember</th>\n",
       "      <th>EstimatedSalary</th>\n",
       "      <th>Exited</th>\n",
       "    </tr>\n",
       "  </thead>\n",
       "  <tbody>\n",
       "    <tr>\n",
       "      <th>0</th>\n",
       "      <td>1</td>\n",
       "      <td>15634602</td>\n",
       "      <td>Hargrave</td>\n",
       "      <td>619</td>\n",
       "      <td>France</td>\n",
       "      <td>Female</td>\n",
       "      <td>42</td>\n",
       "      <td>2</td>\n",
       "      <td>0.00</td>\n",
       "      <td>1</td>\n",
       "      <td>1</td>\n",
       "      <td>1</td>\n",
       "      <td>101348.88</td>\n",
       "      <td>1</td>\n",
       "    </tr>\n",
       "    <tr>\n",
       "      <th>1</th>\n",
       "      <td>2</td>\n",
       "      <td>15647311</td>\n",
       "      <td>Hill</td>\n",
       "      <td>608</td>\n",
       "      <td>Spain</td>\n",
       "      <td>Female</td>\n",
       "      <td>41</td>\n",
       "      <td>1</td>\n",
       "      <td>83807.86</td>\n",
       "      <td>1</td>\n",
       "      <td>0</td>\n",
       "      <td>1</td>\n",
       "      <td>112542.58</td>\n",
       "      <td>0</td>\n",
       "    </tr>\n",
       "    <tr>\n",
       "      <th>2</th>\n",
       "      <td>3</td>\n",
       "      <td>15619304</td>\n",
       "      <td>Onio</td>\n",
       "      <td>502</td>\n",
       "      <td>France</td>\n",
       "      <td>Female</td>\n",
       "      <td>42</td>\n",
       "      <td>8</td>\n",
       "      <td>159660.80</td>\n",
       "      <td>3</td>\n",
       "      <td>1</td>\n",
       "      <td>0</td>\n",
       "      <td>113931.57</td>\n",
       "      <td>1</td>\n",
       "    </tr>\n",
       "    <tr>\n",
       "      <th>3</th>\n",
       "      <td>4</td>\n",
       "      <td>15701354</td>\n",
       "      <td>Boni</td>\n",
       "      <td>699</td>\n",
       "      <td>France</td>\n",
       "      <td>Female</td>\n",
       "      <td>39</td>\n",
       "      <td>1</td>\n",
       "      <td>0.00</td>\n",
       "      <td>2</td>\n",
       "      <td>0</td>\n",
       "      <td>0</td>\n",
       "      <td>93826.63</td>\n",
       "      <td>0</td>\n",
       "    </tr>\n",
       "    <tr>\n",
       "      <th>4</th>\n",
       "      <td>5</td>\n",
       "      <td>15737888</td>\n",
       "      <td>Mitchell</td>\n",
       "      <td>850</td>\n",
       "      <td>Spain</td>\n",
       "      <td>Female</td>\n",
       "      <td>43</td>\n",
       "      <td>2</td>\n",
       "      <td>125510.82</td>\n",
       "      <td>1</td>\n",
       "      <td>1</td>\n",
       "      <td>1</td>\n",
       "      <td>79084.10</td>\n",
       "      <td>0</td>\n",
       "    </tr>\n",
       "  </tbody>\n",
       "</table>\n",
       "</div>"
      ],
      "text/plain": [
       "   RowNumber  CustomerId   Surname  CreditScore Geography  Gender  Age  \\\n",
       "0          1    15634602  Hargrave          619    France  Female   42   \n",
       "1          2    15647311      Hill          608     Spain  Female   41   \n",
       "2          3    15619304      Onio          502    France  Female   42   \n",
       "3          4    15701354      Boni          699    France  Female   39   \n",
       "4          5    15737888  Mitchell          850     Spain  Female   43   \n",
       "\n",
       "   Tenure    Balance  NumOfProducts  HasCrCard  IsActiveMember  \\\n",
       "0       2       0.00              1          1               1   \n",
       "1       1   83807.86              1          0               1   \n",
       "2       8  159660.80              3          1               0   \n",
       "3       1       0.00              2          0               0   \n",
       "4       2  125510.82              1          1               1   \n",
       "\n",
       "   EstimatedSalary  Exited  \n",
       "0        101348.88       1  \n",
       "1        112542.58       0  \n",
       "2        113931.57       1  \n",
       "3         93826.63       0  \n",
       "4         79084.10       0  "
      ]
     },
     "execution_count": 5,
     "metadata": {},
     "output_type": "execute_result"
    }
   ],
   "source": [
    "dataset.head()"
   ]
  },
  {
   "cell_type": "code",
   "execution_count": 6,
   "metadata": {
    "ExecuteTime": {
     "end_time": "2020-10-14T19:38:04.639557Z",
     "start_time": "2020-10-14T19:38:00.665742Z"
    }
   },
   "outputs": [],
   "source": [
    "from sklearn.preprocessing import LabelEncoder\n",
    "le = LabelEncoder()\n",
    "X[:,2]= le.fit_transform(X[:,2])"
   ]
  },
  {
   "cell_type": "code",
   "execution_count": 7,
   "metadata": {
    "ExecuteTime": {
     "end_time": "2020-10-14T19:38:04.785708Z",
     "start_time": "2020-10-14T19:38:04.642562Z"
    }
   },
   "outputs": [],
   "source": [
    "from sklearn.preprocessing import OneHotEncoder\n",
    "from sklearn.compose import ColumnTransformer\n",
    "ct = ColumnTransformer(transformers=[\n",
    "    ('oh' , OneHotEncoder(), [1])\n",
    "], remainder='passthrough')\n",
    "\n",
    "X = np.array(ct.fit_transform(X))"
   ]
  },
  {
   "cell_type": "code",
   "execution_count": 8,
   "metadata": {
    "ExecuteTime": {
     "end_time": "2020-10-14T19:38:04.792693Z",
     "start_time": "2020-10-14T19:38:04.787695Z"
    }
   },
   "outputs": [
    {
     "data": {
      "text/plain": [
       "array([[1.0, 0.0, 0.0, ..., 1, 1, 101348.88],\n",
       "       [0.0, 0.0, 1.0, ..., 0, 1, 112542.58],\n",
       "       [1.0, 0.0, 0.0, ..., 1, 0, 113931.57],\n",
       "       ...,\n",
       "       [1.0, 0.0, 0.0, ..., 0, 1, 42085.58],\n",
       "       [0.0, 1.0, 0.0, ..., 1, 0, 92888.52],\n",
       "       [1.0, 0.0, 0.0, ..., 1, 0, 38190.78]], dtype=object)"
      ]
     },
     "execution_count": 8,
     "metadata": {},
     "output_type": "execute_result"
    }
   ],
   "source": [
    "X"
   ]
  },
  {
   "cell_type": "code",
   "execution_count": 9,
   "metadata": {
    "ExecuteTime": {
     "end_time": "2020-10-14T19:38:05.266539Z",
     "start_time": "2020-10-14T19:38:04.794691Z"
    }
   },
   "outputs": [],
   "source": [
    "from sklearn.model_selection import train_test_split\n",
    "\n",
    "X_train,X_test,y_train,y_test = train_test_split(X,y , test_size = 0.2, random_state = 0)"
   ]
  },
  {
   "cell_type": "code",
   "execution_count": 10,
   "metadata": {
    "ExecuteTime": {
     "end_time": "2020-10-14T19:38:05.306691Z",
     "start_time": "2020-10-14T19:38:05.268529Z"
    }
   },
   "outputs": [],
   "source": [
    "from sklearn.preprocessing import StandardScaler\n",
    "\n",
    "st = StandardScaler()\n",
    "X_train = st.fit_transform(X_train)\n",
    "X_test = st.transform(X_test)"
   ]
  },
  {
   "cell_type": "code",
   "execution_count": 11,
   "metadata": {
    "ExecuteTime": {
     "end_time": "2020-10-14T19:38:05.483676Z",
     "start_time": "2020-10-14T19:38:05.309681Z"
    }
   },
   "outputs": [],
   "source": [
    "ann = tf.keras.models.Sequential()"
   ]
  },
  {
   "cell_type": "code",
   "execution_count": 12,
   "metadata": {
    "ExecuteTime": {
     "end_time": "2020-10-14T19:38:05.492683Z",
     "start_time": "2020-10-14T19:38:05.484677Z"
    }
   },
   "outputs": [],
   "source": [
    "ann.add(tf.keras.layers.Dense(units=6, activation = 'relu'))"
   ]
  },
  {
   "cell_type": "code",
   "execution_count": 13,
   "metadata": {
    "ExecuteTime": {
     "end_time": "2020-10-14T19:38:05.503681Z",
     "start_time": "2020-10-14T19:38:05.494681Z"
    }
   },
   "outputs": [],
   "source": [
    "ann.add(tf.keras.layers.Dense(units=6, activation = 'relu'))"
   ]
  },
  {
   "cell_type": "code",
   "execution_count": 14,
   "metadata": {
    "ExecuteTime": {
     "end_time": "2020-10-14T19:38:05.518681Z",
     "start_time": "2020-10-14T19:38:05.505684Z"
    }
   },
   "outputs": [],
   "source": [
    "ann.add(tf.keras.layers.Dense(units=1, activation = 'sigmoid'))"
   ]
  },
  {
   "cell_type": "code",
   "execution_count": 15,
   "metadata": {
    "ExecuteTime": {
     "end_time": "2020-10-14T19:38:05.538676Z",
     "start_time": "2020-10-14T19:38:05.520682Z"
    }
   },
   "outputs": [],
   "source": [
    "ann.compile(optimizer = 'adam', loss = 'binary_crossentropy' ,metrics =['accuracy'] )"
   ]
  },
  {
   "cell_type": "code",
   "execution_count": 16,
   "metadata": {
    "ExecuteTime": {
     "end_time": "2020-10-14T19:38:33.407624Z",
     "start_time": "2020-10-14T19:38:05.540680Z"
    }
   },
   "outputs": [
    {
     "name": "stdout",
     "output_type": "stream",
     "text": [
      "Epoch 1/100\n",
      "250/250 [==============================] - 0s 1ms/step - loss: 0.5340 - accuracy: 0.7893\n",
      "Epoch 2/100\n",
      "250/250 [==============================] - 0s 868us/step - loss: 0.4784 - accuracy: 0.7960\n",
      "Epoch 3/100\n",
      "250/250 [==============================] - 0s 816us/step - loss: 0.4551 - accuracy: 0.7960\n",
      "Epoch 4/100\n",
      "250/250 [==============================] - 0s 848us/step - loss: 0.4423 - accuracy: 0.7960\n",
      "Epoch 5/100\n",
      "250/250 [==============================] - 0s 832us/step - loss: 0.4348 - accuracy: 0.7964\n",
      "Epoch 6/100\n",
      "250/250 [==============================] - 0s 856us/step - loss: 0.4300 - accuracy: 0.8031\n",
      "Epoch 7/100\n",
      "250/250 [==============================] - 0s 832us/step - loss: 0.4260 - accuracy: 0.8096\n",
      "Epoch 8/100\n",
      "250/250 [==============================] - 0s 832us/step - loss: 0.4221 - accuracy: 0.8151\n",
      "Epoch 9/100\n",
      "250/250 [==============================] - 0s 852us/step - loss: 0.4192 - accuracy: 0.8194\n",
      "Epoch 10/100\n",
      "250/250 [==============================] - 0s 900us/step - loss: 0.4162 - accuracy: 0.8223\n",
      "Epoch 11/100\n",
      "250/250 [==============================] - 0s 876us/step - loss: 0.4133 - accuracy: 0.8271\n",
      "Epoch 12/100\n",
      "250/250 [==============================] - 0s 852us/step - loss: 0.4110 - accuracy: 0.82820s - loss: 0.4063 - accuracy\n",
      "Epoch 13/100\n",
      "250/250 [==============================] - 0s 804us/step - loss: 0.4093 - accuracy: 0.8299\n",
      "Epoch 14/100\n",
      "250/250 [==============================] - 0s 852us/step - loss: 0.4080 - accuracy: 0.8294\n",
      "Epoch 15/100\n",
      "250/250 [==============================] - 0s 828us/step - loss: 0.4066 - accuracy: 0.8311\n",
      "Epoch 16/100\n",
      "250/250 [==============================] - 0s 836us/step - loss: 0.4056 - accuracy: 0.8329\n",
      "Epoch 17/100\n",
      "250/250 [==============================] - 0s 820us/step - loss: 0.4045 - accuracy: 0.8313\n",
      "Epoch 18/100\n",
      "250/250 [==============================] - 0s 808us/step - loss: 0.4039 - accuracy: 0.8313\n",
      "Epoch 19/100\n",
      "250/250 [==============================] - 0s 960us/step - loss: 0.4031 - accuracy: 0.8332\n",
      "Epoch 20/100\n",
      "250/250 [==============================] - 0s 888us/step - loss: 0.4026 - accuracy: 0.8322\n",
      "Epoch 21/100\n",
      "250/250 [==============================] - 0s 836us/step - loss: 0.4016 - accuracy: 0.8319\n",
      "Epoch 22/100\n",
      "250/250 [==============================] - 0s 804us/step - loss: 0.4008 - accuracy: 0.8335\n",
      "Epoch 23/100\n",
      "250/250 [==============================] - 0s 852us/step - loss: 0.3994 - accuracy: 0.8336\n",
      "Epoch 24/100\n",
      "250/250 [==============================] - 0s 844us/step - loss: 0.3975 - accuracy: 0.8351\n",
      "Epoch 25/100\n",
      "250/250 [==============================] - 0s 824us/step - loss: 0.3953 - accuracy: 0.8359\n",
      "Epoch 26/100\n",
      "250/250 [==============================] - 0s 852us/step - loss: 0.3923 - accuracy: 0.8351\n",
      "Epoch 27/100\n",
      "250/250 [==============================] - 0s 824us/step - loss: 0.3879 - accuracy: 0.8401\n",
      "Epoch 28/100\n",
      "250/250 [==============================] - 0s 936us/step - loss: 0.3824 - accuracy: 0.8393\n",
      "Epoch 29/100\n",
      "250/250 [==============================] - 0s 916us/step - loss: 0.3763 - accuracy: 0.8428\n",
      "Epoch 30/100\n",
      "250/250 [==============================] - 0s 848us/step - loss: 0.3699 - accuracy: 0.8451\n",
      "Epoch 31/100\n",
      "250/250 [==============================] - 0s 832us/step - loss: 0.3639 - accuracy: 0.8496\n",
      "Epoch 32/100\n",
      "250/250 [==============================] - 0s 828us/step - loss: 0.3591 - accuracy: 0.8511\n",
      "Epoch 33/100\n",
      "250/250 [==============================] - 0s 896us/step - loss: 0.3556 - accuracy: 0.8547\n",
      "Epoch 34/100\n",
      "250/250 [==============================] - 0s 824us/step - loss: 0.3516 - accuracy: 0.8543\n",
      "Epoch 35/100\n",
      "250/250 [==============================] - 0s 844us/step - loss: 0.3499 - accuracy: 0.8565\n",
      "Epoch 36/100\n",
      "250/250 [==============================] - 0s 840us/step - loss: 0.3476 - accuracy: 0.8568\n",
      "Epoch 37/100\n",
      "250/250 [==============================] - 0s 876us/step - loss: 0.3461 - accuracy: 0.8561\n",
      "Epoch 38/100\n",
      "250/250 [==============================] - 0s 980us/step - loss: 0.3453 - accuracy: 0.8584\n",
      "Epoch 39/100\n",
      "250/250 [==============================] - 0s 844us/step - loss: 0.3444 - accuracy: 0.8593\n",
      "Epoch 40/100\n",
      "250/250 [==============================] - 0s 840us/step - loss: 0.3442 - accuracy: 0.8580\n",
      "Epoch 41/100\n",
      "250/250 [==============================] - 0s 844us/step - loss: 0.3433 - accuracy: 0.8591\n",
      "Epoch 42/100\n",
      "250/250 [==============================] - 0s 840us/step - loss: 0.3425 - accuracy: 0.8600\n",
      "Epoch 43/100\n",
      "250/250 [==============================] - 0s 896us/step - loss: 0.3424 - accuracy: 0.8611\n",
      "Epoch 44/100\n",
      "250/250 [==============================] - 0s 840us/step - loss: 0.3423 - accuracy: 0.8600\n",
      "Epoch 45/100\n",
      "250/250 [==============================] - 0s 836us/step - loss: 0.3415 - accuracy: 0.8619\n",
      "Epoch 46/100\n",
      "250/250 [==============================] - 0s 852us/step - loss: 0.3415 - accuracy: 0.8612\n",
      "Epoch 47/100\n",
      "250/250 [==============================] - 0s 956us/step - loss: 0.3413 - accuracy: 0.8606\n",
      "Epoch 48/100\n",
      "250/250 [==============================] - 0s 920us/step - loss: 0.3407 - accuracy: 0.8618\n",
      "Epoch 49/100\n",
      "250/250 [==============================] - 0s 904us/step - loss: 0.3410 - accuracy: 0.8611\n",
      "Epoch 50/100\n",
      "250/250 [==============================] - 0s 904us/step - loss: 0.3405 - accuracy: 0.8620\n",
      "Epoch 51/100\n",
      "250/250 [==============================] - 0s 816us/step - loss: 0.3401 - accuracy: 0.8612\n",
      "Epoch 52/100\n",
      "250/250 [==============================] - 0s 984us/step - loss: 0.3402 - accuracy: 0.8619\n",
      "Epoch 53/100\n",
      "250/250 [==============================] - 0s 912us/step - loss: 0.3404 - accuracy: 0.8625\n",
      "Epoch 54/100\n",
      "250/250 [==============================] - 0s 948us/step - loss: 0.3394 - accuracy: 0.8630\n",
      "Epoch 55/100\n",
      "250/250 [==============================] - 0s 1ms/step - loss: 0.3392 - accuracy: 0.8622\n",
      "Epoch 56/100\n",
      "250/250 [==============================] - 0s 1ms/step - loss: 0.3391 - accuracy: 0.8620\n",
      "Epoch 57/100\n",
      "250/250 [==============================] - 0s 952us/step - loss: 0.3387 - accuracy: 0.8626\n",
      "Epoch 58/100\n",
      "250/250 [==============================] - 0s 920us/step - loss: 0.3385 - accuracy: 0.8620\n",
      "Epoch 59/100\n",
      "250/250 [==============================] - 0s 840us/step - loss: 0.3383 - accuracy: 0.8618\n",
      "Epoch 60/100\n",
      "250/250 [==============================] - 0s 852us/step - loss: 0.3382 - accuracy: 0.8624\n",
      "Epoch 61/100\n",
      "250/250 [==============================] - 0s 892us/step - loss: 0.3378 - accuracy: 0.8626\n",
      "Epoch 62/100\n",
      "250/250 [==============================] - 0s 852us/step - loss: 0.3377 - accuracy: 0.8621\n",
      "Epoch 63/100\n",
      "250/250 [==============================] - 0s 848us/step - loss: 0.3377 - accuracy: 0.8625\n",
      "Epoch 64/100\n",
      "250/250 [==============================] - 0s 912us/step - loss: 0.3375 - accuracy: 0.8616\n",
      "Epoch 65/100\n",
      "250/250 [==============================] - 0s 900us/step - loss: 0.3372 - accuracy: 0.8629\n",
      "Epoch 66/100\n",
      "250/250 [==============================] - 0s 876us/step - loss: 0.3375 - accuracy: 0.8635\n",
      "Epoch 67/100\n",
      "250/250 [==============================] - 0s 856us/step - loss: 0.3374 - accuracy: 0.8630\n",
      "Epoch 68/100\n",
      "250/250 [==============================] - 0s 824us/step - loss: 0.3369 - accuracy: 0.8626\n",
      "Epoch 69/100\n",
      "250/250 [==============================] - 0s 848us/step - loss: 0.3366 - accuracy: 0.8639\n",
      "Epoch 70/100\n",
      "250/250 [==============================] - 0s 840us/step - loss: 0.3365 - accuracy: 0.8625\n",
      "Epoch 71/100\n",
      "250/250 [==============================] - 0s 884us/step - loss: 0.3369 - accuracy: 0.8616\n",
      "Epoch 72/100\n",
      "250/250 [==============================] - 0s 844us/step - loss: 0.3363 - accuracy: 0.8654\n",
      "Epoch 73/100\n",
      "250/250 [==============================] - 0s 924us/step - loss: 0.3363 - accuracy: 0.8640\n",
      "Epoch 74/100\n",
      "250/250 [==============================] - 0s 896us/step - loss: 0.3363 - accuracy: 0.8629\n",
      "Epoch 75/100\n",
      "250/250 [==============================] - 0s 836us/step - loss: 0.3359 - accuracy: 0.8650\n",
      "Epoch 76/100\n",
      "250/250 [==============================] - 0s 884us/step - loss: 0.3358 - accuracy: 0.8645\n",
      "Epoch 77/100\n",
      "250/250 [==============================] - 0s 840us/step - loss: 0.3359 - accuracy: 0.8633\n",
      "Epoch 78/100\n",
      "250/250 [==============================] - 0s 836us/step - loss: 0.3359 - accuracy: 0.8637\n",
      "Epoch 79/100\n"
     ]
    },
    {
     "name": "stdout",
     "output_type": "stream",
     "text": [
      "250/250 [==============================] - 0s 852us/step - loss: 0.3361 - accuracy: 0.8621\n",
      "Epoch 80/100\n",
      "250/250 [==============================] - 0s 828us/step - loss: 0.3356 - accuracy: 0.8634\n",
      "Epoch 81/100\n",
      "250/250 [==============================] - 0s 880us/step - loss: 0.3361 - accuracy: 0.8622\n",
      "Epoch 82/100\n",
      "250/250 [==============================] - 0s 880us/step - loss: 0.3354 - accuracy: 0.8639\n",
      "Epoch 83/100\n",
      "250/250 [==============================] - 0s 872us/step - loss: 0.3356 - accuracy: 0.8634\n",
      "Epoch 84/100\n",
      "250/250 [==============================] - 0s 800us/step - loss: 0.3354 - accuracy: 0.8637\n",
      "Epoch 85/100\n",
      "250/250 [==============================] - 0s 848us/step - loss: 0.3353 - accuracy: 0.8616\n",
      "Epoch 86/100\n",
      "250/250 [==============================] - 0s 836us/step - loss: 0.3350 - accuracy: 0.8635\n",
      "Epoch 87/100\n",
      "250/250 [==============================] - 0s 804us/step - loss: 0.3351 - accuracy: 0.8629\n",
      "Epoch 88/100\n",
      "250/250 [==============================] - 0s 868us/step - loss: 0.3350 - accuracy: 0.8627\n",
      "Epoch 89/100\n",
      "250/250 [==============================] - 0s 808us/step - loss: 0.3351 - accuracy: 0.8639\n",
      "Epoch 90/100\n",
      "250/250 [==============================] - 0s 856us/step - loss: 0.3349 - accuracy: 0.8624\n",
      "Epoch 91/100\n",
      "250/250 [==============================] - 0s 896us/step - loss: 0.3348 - accuracy: 0.8634\n",
      "Epoch 92/100\n",
      "250/250 [==============================] - 0s 884us/step - loss: 0.3347 - accuracy: 0.8650\n",
      "Epoch 93/100\n",
      "250/250 [==============================] - 0s 836us/step - loss: 0.3349 - accuracy: 0.8625\n",
      "Epoch 94/100\n",
      "250/250 [==============================] - 0s 820us/step - loss: 0.3343 - accuracy: 0.8646\n",
      "Epoch 95/100\n",
      "250/250 [==============================] - 0s 876us/step - loss: 0.3345 - accuracy: 0.8640\n",
      "Epoch 96/100\n",
      "250/250 [==============================] - 0s 808us/step - loss: 0.3343 - accuracy: 0.8641\n",
      "Epoch 97/100\n",
      "250/250 [==============================] - 0s 844us/step - loss: 0.3338 - accuracy: 0.8633\n",
      "Epoch 98/100\n",
      "250/250 [==============================] - 0s 832us/step - loss: 0.3345 - accuracy: 0.8639\n",
      "Epoch 99/100\n",
      "250/250 [==============================] - 0s 820us/step - loss: 0.3345 - accuracy: 0.8651\n",
      "Epoch 100/100\n",
      "250/250 [==============================] - 0s 892us/step - loss: 0.3341 - accuracy: 0.8648\n"
     ]
    },
    {
     "data": {
      "text/plain": [
       "<tensorflow.python.keras.callbacks.History at 0x1805dbbcb50>"
      ]
     },
     "execution_count": 16,
     "metadata": {},
     "output_type": "execute_result"
    }
   ],
   "source": [
    "ann.fit(X_train,y_train,batch_size=32,epochs = 100)"
   ]
  },
  {
   "cell_type": "code",
   "execution_count": 19,
   "metadata": {
    "ExecuteTime": {
     "end_time": "2020-10-14T19:40:00.245500Z",
     "start_time": "2020-10-14T19:40:00.239505Z"
    }
   },
   "outputs": [
    {
     "data": {
      "text/plain": [
       "array([1.0, 0.0, 0.0, 619, 0, 42, 2, 0.0, 1, 1, 1, 101348.88],\n",
       "      dtype=object)"
      ]
     },
     "execution_count": 19,
     "metadata": {},
     "output_type": "execute_result"
    }
   ],
   "source": [
    "X_train[0]\n",
    "X[0]"
   ]
  },
  {
   "cell_type": "code",
   "execution_count": 25,
   "metadata": {
    "ExecuteTime": {
     "end_time": "2020-10-14T19:44:13.307465Z",
     "start_time": "2020-10-14T19:44:13.236468Z"
    }
   },
   "outputs": [
    {
     "data": {
      "text/plain": [
       "array([[False]])"
      ]
     },
     "execution_count": 25,
     "metadata": {},
     "output_type": "execute_result"
    }
   ],
   "source": [
    "ann.predict(st.transform([[1,0,0,600,1,42,3,60000,2,1,1,50000]])) > 0.5"
   ]
  },
  {
   "cell_type": "code",
   "execution_count": 38,
   "metadata": {
    "ExecuteTime": {
     "end_time": "2020-10-14T19:50:26.558300Z",
     "start_time": "2020-10-14T19:50:26.449307Z"
    }
   },
   "outputs": [],
   "source": [
    "y_pred = ann.predict(X_test)\n",
    "y_pred = (y_pred>0.5)"
   ]
  },
  {
   "cell_type": "code",
   "execution_count": 39,
   "metadata": {
    "ExecuteTime": {
     "end_time": "2020-10-14T19:50:26.757305Z",
     "start_time": "2020-10-14T19:50:26.753301Z"
    }
   },
   "outputs": [
    {
     "name": "stdout",
     "output_type": "stream",
     "text": [
      "[[0 0]\n",
      " [0 1]\n",
      " [0 0]\n",
      " ...\n",
      " [0 0]\n",
      " [0 0]\n",
      " [0 0]]\n"
     ]
    }
   ],
   "source": [
    "print(np.concatenate(\n",
    "            (\n",
    "                y_pred.reshape(len(y_pred),1),\n",
    "                y_test.reshape(len(y_test),1)\n",
    "            )\n",
    "            ,1\n",
    "        )\n",
    "     )"
   ]
  },
  {
   "cell_type": "code",
   "execution_count": null,
   "metadata": {},
   "outputs": [],
   "source": []
  }
 ],
 "metadata": {
  "kernelspec": {
   "display_name": "Python 3",
   "language": "python",
   "name": "python3"
  },
  "language_info": {
   "codemirror_mode": {
    "name": "ipython",
    "version": 3
   },
   "file_extension": ".py",
   "mimetype": "text/x-python",
   "name": "python",
   "nbconvert_exporter": "python",
   "pygments_lexer": "ipython3",
   "version": "3.8.5"
  },
  "toc": {
   "base_numbering": 1,
   "nav_menu": {},
   "number_sections": true,
   "sideBar": true,
   "skip_h1_title": false,
   "title_cell": "Table of Contents",
   "title_sidebar": "Contents",
   "toc_cell": false,
   "toc_position": {},
   "toc_section_display": true,
   "toc_window_display": false
  },
  "varInspector": {
   "cols": {
    "lenName": 16,
    "lenType": 16,
    "lenVar": 40
   },
   "kernels_config": {
    "python": {
     "delete_cmd_postfix": "",
     "delete_cmd_prefix": "del ",
     "library": "var_list.py",
     "varRefreshCmd": "print(var_dic_list())"
    },
    "r": {
     "delete_cmd_postfix": ") ",
     "delete_cmd_prefix": "rm(",
     "library": "var_list.r",
     "varRefreshCmd": "cat(var_dic_list()) "
    }
   },
   "types_to_exclude": [
    "module",
    "function",
    "builtin_function_or_method",
    "instance",
    "_Feature"
   ],
   "window_display": false
  }
 },
 "nbformat": 4,
 "nbformat_minor": 4
}
