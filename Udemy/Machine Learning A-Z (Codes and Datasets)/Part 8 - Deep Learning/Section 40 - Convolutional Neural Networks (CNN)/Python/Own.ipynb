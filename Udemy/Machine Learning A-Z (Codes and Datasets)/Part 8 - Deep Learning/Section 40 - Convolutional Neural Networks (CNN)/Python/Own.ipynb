{
 "cells": [
  {
   "cell_type": "code",
   "execution_count": 1,
   "metadata": {
    "ExecuteTime": {
     "end_time": "2020-10-22T18:22:53.298309Z",
     "start_time": "2020-10-22T18:22:32.388046Z"
    }
   },
   "outputs": [],
   "source": [
    "import pandas as pd\n",
    "import numpy as np\n",
    "import tensorflow as tf\n",
    "from keras.preprocessing.image import ImageDataGenerator"
   ]
  },
  {
   "cell_type": "code",
   "execution_count": 2,
   "metadata": {
    "ExecuteTime": {
     "end_time": "2020-10-22T18:22:53.753724Z",
     "start_time": "2020-10-22T18:22:53.300311Z"
    }
   },
   "outputs": [
    {
     "name": "stdout",
     "output_type": "stream",
     "text": [
      "Found 8000 images belonging to 2 classes.\n"
     ]
    }
   ],
   "source": [
    "train_datagen = ImageDataGenerator(rescale = 1./255,\n",
    "                                   shear_range = 0.2,\n",
    "                                   zoom_range = 0.2,\n",
    "                                   horizontal_flip = True)\n",
    "training_set = train_datagen.flow_from_directory('../../../../../../../dataset/training_set/',\n",
    "                                                 target_size = (64, 64),\n",
    "                                                 batch_size = 32,\n",
    "                                                 class_mode = 'binary')"
   ]
  },
  {
   "cell_type": "code",
   "execution_count": 3,
   "metadata": {
    "ExecuteTime": {
     "end_time": "2020-10-22T18:22:53.872832Z",
     "start_time": "2020-10-22T18:22:53.755726Z"
    }
   },
   "outputs": [
    {
     "name": "stdout",
     "output_type": "stream",
     "text": [
      "Found 2000 images belonging to 2 classes.\n"
     ]
    }
   ],
   "source": [
    "test_datagen = ImageDataGenerator(rescale = 1./255)\n",
    "test_set = test_datagen.flow_from_directory('../../../../../../../dataset/test_set/',\n",
    "                                            target_size = (64, 64),\n",
    "                                            batch_size = 32,\n",
    "                                            class_mode = 'binary')"
   ]
  },
  {
   "cell_type": "markdown",
   "metadata": {},
   "source": [
    "# CNN"
   ]
  },
  {
   "cell_type": "code",
   "execution_count": 4,
   "metadata": {
    "ExecuteTime": {
     "end_time": "2020-10-22T18:22:54.137072Z",
     "start_time": "2020-10-22T18:22:53.874835Z"
    }
   },
   "outputs": [],
   "source": [
    "cnn=tf.keras.models.Sequential()"
   ]
  },
  {
   "cell_type": "markdown",
   "metadata": {},
   "source": [
    "## Step 1 - Convolution"
   ]
  },
  {
   "cell_type": "code",
   "execution_count": 5,
   "metadata": {
    "ExecuteTime": {
     "end_time": "2020-10-22T18:22:54.167099Z",
     "start_time": "2020-10-22T18:22:54.139074Z"
    }
   },
   "outputs": [],
   "source": [
    "cnn.add(tf.keras.layers.Conv2D(filters=32,kernel_size=3,activation='relu',input_shape=[64,64,3]))"
   ]
  },
  {
   "cell_type": "markdown",
   "metadata": {},
   "source": [
    "## Step 2 - Pooling"
   ]
  },
  {
   "cell_type": "code",
   "execution_count": 6,
   "metadata": {
    "ExecuteTime": {
     "end_time": "2020-10-22T18:22:54.179111Z",
     "start_time": "2020-10-22T18:22:54.170102Z"
    }
   },
   "outputs": [],
   "source": [
    "cnn.add(tf.keras.layers.MaxPool2D(pool_size=2,strides=2))"
   ]
  },
  {
   "cell_type": "markdown",
   "metadata": {},
   "source": [
    "## Adding a second convolutional layer"
   ]
  },
  {
   "cell_type": "code",
   "execution_count": 7,
   "metadata": {
    "ExecuteTime": {
     "end_time": "2020-10-22T18:22:54.205134Z",
     "start_time": "2020-10-22T18:22:54.183113Z"
    }
   },
   "outputs": [],
   "source": [
    "cnn.add(tf.keras.layers.Conv2D(filters=32,kernel_size=3,activation='relu'))\n",
    "cnn.add(tf.keras.layers.MaxPool2D(pool_size=2,strides=2))"
   ]
  },
  {
   "cell_type": "markdown",
   "metadata": {},
   "source": [
    "## Step 3 - Flattening"
   ]
  },
  {
   "cell_type": "code",
   "execution_count": 8,
   "metadata": {
    "ExecuteTime": {
     "end_time": "2020-10-22T18:22:54.216143Z",
     "start_time": "2020-10-22T18:22:54.207135Z"
    }
   },
   "outputs": [],
   "source": [
    "cnn.add(tf.keras.layers.Flatten())"
   ]
  },
  {
   "cell_type": "markdown",
   "metadata": {},
   "source": [
    "## Step 4 - Full Connection"
   ]
  },
  {
   "cell_type": "code",
   "execution_count": 9,
   "metadata": {
    "ExecuteTime": {
     "end_time": "2020-10-22T18:22:54.249173Z",
     "start_time": "2020-10-22T18:22:54.219147Z"
    }
   },
   "outputs": [],
   "source": [
    "cnn.add(tf.keras.layers.Dense(units=128,activation='relu'))"
   ]
  },
  {
   "cell_type": "code",
   "execution_count": 10,
   "metadata": {
    "ExecuteTime": {
     "end_time": "2020-10-22T18:22:54.264187Z",
     "start_time": "2020-10-22T18:22:54.250175Z"
    }
   },
   "outputs": [],
   "source": [
    "cnn.add(tf.keras.layers.Dense(units=1,activation='sigmoid'))"
   ]
  },
  {
   "cell_type": "code",
   "execution_count": 11,
   "metadata": {
    "ExecuteTime": {
     "end_time": "2020-10-22T18:22:54.300220Z",
     "start_time": "2020-10-22T18:22:54.278200Z"
    }
   },
   "outputs": [],
   "source": [
    "cnn.compile(optimizer='adam' , loss = 'binary_crossentropy' , metrics= ['accuracy'])"
   ]
  },
  {
   "cell_type": "code",
   "execution_count": 12,
   "metadata": {
    "ExecuteTime": {
     "end_time": "2020-10-22T18:42:43.904519Z",
     "start_time": "2020-10-22T18:22:54.303224Z"
    }
   },
   "outputs": [
    {
     "name": "stdout",
     "output_type": "stream",
     "text": [
      "Epoch 1/25\n",
      "250/250 [==============================] - 170s 681ms/step - loss: 0.6850 - accuracy: 0.5506 - val_loss: 0.6422 - val_accuracy: 0.6415\n",
      "Epoch 2/25\n",
      "250/250 [==============================] - 45s 178ms/step - loss: 0.6273 - accuracy: 0.6561 - val_loss: 0.5827 - val_accuracy: 0.7125\n",
      "Epoch 3/25\n",
      "250/250 [==============================] - 44s 175ms/step - loss: 0.5824 - accuracy: 0.6908 - val_loss: 0.5810 - val_accuracy: 0.6975\n",
      "Epoch 4/25\n",
      "250/250 [==============================] - 44s 175ms/step - loss: 0.5471 - accuracy: 0.7210 - val_loss: 0.5298 - val_accuracy: 0.7370\n",
      "Epoch 5/25\n",
      "250/250 [==============================] - 42s 168ms/step - loss: 0.5225 - accuracy: 0.7385 - val_loss: 0.5630 - val_accuracy: 0.7310\n",
      "Epoch 6/25\n",
      "250/250 [==============================] - 45s 179ms/step - loss: 0.4920 - accuracy: 0.7573 - val_loss: 0.5238 - val_accuracy: 0.7490\n",
      "Epoch 7/25\n",
      "250/250 [==============================] - 42s 170ms/step - loss: 0.4674 - accuracy: 0.7796 - val_loss: 0.4775 - val_accuracy: 0.7855\n",
      "Epoch 8/25\n",
      "250/250 [==============================] - 42s 167ms/step - loss: 0.4576 - accuracy: 0.7785 - val_loss: 0.5237 - val_accuracy: 0.7570\n",
      "Epoch 9/25\n",
      "250/250 [==============================] - 41s 165ms/step - loss: 0.4399 - accuracy: 0.7889 - val_loss: 0.4743 - val_accuracy: 0.7780\n",
      "Epoch 10/25\n",
      "250/250 [==============================] - 40s 162ms/step - loss: 0.4199 - accuracy: 0.8059 - val_loss: 0.5746 - val_accuracy: 0.7375\n",
      "Epoch 11/25\n",
      "250/250 [==============================] - 40s 161ms/step - loss: 0.4081 - accuracy: 0.8109 - val_loss: 0.4827 - val_accuracy: 0.7865\n",
      "Epoch 12/25\n",
      "250/250 [==============================] - 43s 174ms/step - loss: 0.4023 - accuracy: 0.8151 - val_loss: 0.4671 - val_accuracy: 0.7895\n",
      "Epoch 13/25\n",
      "250/250 [==============================] - 41s 166ms/step - loss: 0.3820 - accuracy: 0.8235 - val_loss: 0.4825 - val_accuracy: 0.7810\n",
      "Epoch 14/25\n",
      "250/250 [==============================] - 42s 169ms/step - loss: 0.3661 - accuracy: 0.8331 - val_loss: 0.4856 - val_accuracy: 0.7830\n",
      "Epoch 15/25\n",
      "250/250 [==============================] - 41s 163ms/step - loss: 0.3498 - accuracy: 0.8424 - val_loss: 0.4876 - val_accuracy: 0.7840\n",
      "Epoch 16/25\n",
      "250/250 [==============================] - 40s 160ms/step - loss: 0.3343 - accuracy: 0.8497 - val_loss: 0.5244 - val_accuracy: 0.7800\n",
      "Epoch 17/25\n",
      "250/250 [==============================] - 42s 166ms/step - loss: 0.3251 - accuracy: 0.8583 - val_loss: 0.4814 - val_accuracy: 0.7940\n",
      "Epoch 18/25\n",
      "250/250 [==============================] - 41s 166ms/step - loss: 0.3089 - accuracy: 0.8664 - val_loss: 0.5234 - val_accuracy: 0.7870\n",
      "Epoch 19/25\n",
      "250/250 [==============================] - 40s 162ms/step - loss: 0.3009 - accuracy: 0.8716 - val_loss: 0.4859 - val_accuracy: 0.8025\n",
      "Epoch 20/25\n",
      "250/250 [==============================] - 42s 167ms/step - loss: 0.2693 - accuracy: 0.8817 - val_loss: 0.5282 - val_accuracy: 0.7990\n",
      "Epoch 21/25\n",
      "250/250 [==============================] - 40s 161ms/step - loss: 0.2670 - accuracy: 0.8917 - val_loss: 0.5412 - val_accuracy: 0.7955\n",
      "Epoch 22/25\n",
      "250/250 [==============================] - 40s 158ms/step - loss: 0.2418 - accuracy: 0.9003 - val_loss: 0.5564 - val_accuracy: 0.7890\n",
      "Epoch 23/25\n",
      "250/250 [==============================] - 42s 168ms/step - loss: 0.2491 - accuracy: 0.8966 - val_loss: 0.5948 - val_accuracy: 0.7790\n",
      "Epoch 24/25\n",
      "250/250 [==============================] - 48s 191ms/step - loss: 0.2355 - accuracy: 0.9010 - val_loss: 0.6399 - val_accuracy: 0.7795\n",
      "Epoch 25/25\n",
      "250/250 [==============================] - 44s 174ms/step - loss: 0.2113 - accuracy: 0.9116 - val_loss: 0.5956 - val_accuracy: 0.7925\n"
     ]
    },
    {
     "data": {
      "text/plain": [
       "<tensorflow.python.keras.callbacks.History at 0x24adc3cfeb0>"
      ]
     },
     "execution_count": 12,
     "metadata": {},
     "output_type": "execute_result"
    }
   ],
   "source": [
    "cnn.fit(x= training_set, validation_data = test_set,epochs=25)"
   ]
  },
  {
   "cell_type": "code",
   "execution_count": 19,
   "metadata": {
    "ExecuteTime": {
     "end_time": "2020-10-22T18:50:10.365596Z",
     "start_time": "2020-10-22T18:50:10.297010Z"
    }
   },
   "outputs": [],
   "source": [
    "import numpy as np\n",
    "from keras.preprocessing import image\n",
    "\n",
    "test_image = image.load_img('../../../../../../../dataset/single_prediction/cat_or_dog_1.jpg',target_size=(64,64))\n",
    "test_image = image.img_to_array(test_image)\n",
    "test_image = np.expand_dims(test_image,axis=0)\n",
    "result = cnn.predict(test_image)\n",
    "training_set.class_indices\n",
    "if result[0][0] == 1:\n",
    "    prediction = 'dog'\n",
    "else:\n",
    "    prediction = 'cat'"
   ]
  },
  {
   "cell_type": "code",
   "execution_count": 20,
   "metadata": {
    "ExecuteTime": {
     "end_time": "2020-10-22T18:50:10.662920Z",
     "start_time": "2020-10-22T18:50:10.657917Z"
    }
   },
   "outputs": [
    {
     "data": {
      "text/plain": [
       "'dog'"
      ]
     },
     "execution_count": 20,
     "metadata": {},
     "output_type": "execute_result"
    }
   ],
   "source": [
    "prediction"
   ]
  },
  {
   "cell_type": "code",
   "execution_count": null,
   "metadata": {},
   "outputs": [],
   "source": []
  }
 ],
 "metadata": {
  "kernelspec": {
   "display_name": "Python 3",
   "language": "python",
   "name": "python3"
  },
  "language_info": {
   "codemirror_mode": {
    "name": "ipython",
    "version": 3
   },
   "file_extension": ".py",
   "mimetype": "text/x-python",
   "name": "python",
   "nbconvert_exporter": "python",
   "pygments_lexer": "ipython3",
   "version": "3.8.5"
  },
  "toc": {
   "base_numbering": 1,
   "nav_menu": {},
   "number_sections": true,
   "sideBar": true,
   "skip_h1_title": false,
   "title_cell": "Table of Contents",
   "title_sidebar": "Contents",
   "toc_cell": false,
   "toc_position": {},
   "toc_section_display": true,
   "toc_window_display": false
  },
  "varInspector": {
   "cols": {
    "lenName": 16,
    "lenType": 16,
    "lenVar": 40
   },
   "kernels_config": {
    "python": {
     "delete_cmd_postfix": "",
     "delete_cmd_prefix": "del ",
     "library": "var_list.py",
     "varRefreshCmd": "print(var_dic_list())"
    },
    "r": {
     "delete_cmd_postfix": ") ",
     "delete_cmd_prefix": "rm(",
     "library": "var_list.r",
     "varRefreshCmd": "cat(var_dic_list()) "
    }
   },
   "types_to_exclude": [
    "module",
    "function",
    "builtin_function_or_method",
    "instance",
    "_Feature"
   ],
   "window_display": false
  }
 },
 "nbformat": 4,
 "nbformat_minor": 4
}
